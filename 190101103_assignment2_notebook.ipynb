{
  "nbformat": 4,
  "nbformat_minor": 0,
  "metadata": {
    "colab": {
      "provenance": []
    },
    "kernelspec": {
      "name": "python3",
      "display_name": "Python 3"
    },
    "language_info": {
      "name": "python"
    },
    "widgets": {
      "application/vnd.jupyter.widget-state+json": {
        "8dac876826a145f8846e4d0a6f5182f3": {
          "model_module": "@jupyter-widgets/controls",
          "model_name": "HBoxModel",
          "model_module_version": "1.5.0",
          "state": {
            "_dom_classes": [],
            "_model_module": "@jupyter-widgets/controls",
            "_model_module_version": "1.5.0",
            "_model_name": "HBoxModel",
            "_view_count": null,
            "_view_module": "@jupyter-widgets/controls",
            "_view_module_version": "1.5.0",
            "_view_name": "HBoxView",
            "box_style": "",
            "children": [
              "IPY_MODEL_1fdc458ebb4e4542a9cf1c54c440b72b",
              "IPY_MODEL_3fa8761663364799a862d14058bb1b5a",
              "IPY_MODEL_8a1659dd31ef4782945da06cd6c0d2fe"
            ],
            "layout": "IPY_MODEL_d4531e710a42428ebd9d3cba55f629ea"
          }
        },
        "1fdc458ebb4e4542a9cf1c54c440b72b": {
          "model_module": "@jupyter-widgets/controls",
          "model_name": "HTMLModel",
          "model_module_version": "1.5.0",
          "state": {
            "_dom_classes": [],
            "_model_module": "@jupyter-widgets/controls",
            "_model_module_version": "1.5.0",
            "_model_name": "HTMLModel",
            "_view_count": null,
            "_view_module": "@jupyter-widgets/controls",
            "_view_module_version": "1.5.0",
            "_view_name": "HTMLView",
            "description": "",
            "description_tooltip": null,
            "layout": "IPY_MODEL_a8378632c5d7431aa9c62c0f540573a1",
            "placeholder": "​",
            "style": "IPY_MODEL_006eb3bc08294b6baced85cb07681e9a",
            "value": ""
          }
        },
        "3fa8761663364799a862d14058bb1b5a": {
          "model_module": "@jupyter-widgets/controls",
          "model_name": "FloatProgressModel",
          "model_module_version": "1.5.0",
          "state": {
            "_dom_classes": [],
            "_model_module": "@jupyter-widgets/controls",
            "_model_module_version": "1.5.0",
            "_model_name": "FloatProgressModel",
            "_view_count": null,
            "_view_module": "@jupyter-widgets/controls",
            "_view_module_version": "1.5.0",
            "_view_name": "ProgressView",
            "bar_style": "success",
            "description": "",
            "description_tooltip": null,
            "layout": "IPY_MODEL_c3c19c7c418d4efbbc3377591b4caf62",
            "max": 1,
            "min": 0,
            "orientation": "horizontal",
            "style": "IPY_MODEL_805a63e885c14e78b7b3ffa0bed352bf",
            "value": 1
          }
        },
        "8a1659dd31ef4782945da06cd6c0d2fe": {
          "model_module": "@jupyter-widgets/controls",
          "model_name": "HTMLModel",
          "model_module_version": "1.5.0",
          "state": {
            "_dom_classes": [],
            "_model_module": "@jupyter-widgets/controls",
            "_model_module_version": "1.5.0",
            "_model_name": "HTMLModel",
            "_view_count": null,
            "_view_module": "@jupyter-widgets/controls",
            "_view_module_version": "1.5.0",
            "_view_name": "HTMLView",
            "description": "",
            "description_tooltip": null,
            "layout": "IPY_MODEL_fa845ce3cff14f819fda8737e20c1bab",
            "placeholder": "​",
            "style": "IPY_MODEL_7dc3516aec094d51b3c98afc1b68c38b",
            "value": " 131740031/? [00:04&lt;00:00, 19534913.47it/s]"
          }
        },
        "d4531e710a42428ebd9d3cba55f629ea": {
          "model_module": "@jupyter-widgets/base",
          "model_name": "LayoutModel",
          "model_module_version": "1.2.0",
          "state": {
            "_model_module": "@jupyter-widgets/base",
            "_model_module_version": "1.2.0",
            "_model_name": "LayoutModel",
            "_view_count": null,
            "_view_module": "@jupyter-widgets/base",
            "_view_module_version": "1.2.0",
            "_view_name": "LayoutView",
            "align_content": null,
            "align_items": null,
            "align_self": null,
            "border": null,
            "bottom": null,
            "display": null,
            "flex": null,
            "flex_flow": null,
            "grid_area": null,
            "grid_auto_columns": null,
            "grid_auto_flow": null,
            "grid_auto_rows": null,
            "grid_column": null,
            "grid_gap": null,
            "grid_row": null,
            "grid_template_areas": null,
            "grid_template_columns": null,
            "grid_template_rows": null,
            "height": null,
            "justify_content": null,
            "justify_items": null,
            "left": null,
            "margin": null,
            "max_height": null,
            "max_width": null,
            "min_height": null,
            "min_width": null,
            "object_fit": null,
            "object_position": null,
            "order": null,
            "overflow": null,
            "overflow_x": null,
            "overflow_y": null,
            "padding": null,
            "right": null,
            "top": null,
            "visibility": null,
            "width": null
          }
        },
        "a8378632c5d7431aa9c62c0f540573a1": {
          "model_module": "@jupyter-widgets/base",
          "model_name": "LayoutModel",
          "model_module_version": "1.2.0",
          "state": {
            "_model_module": "@jupyter-widgets/base",
            "_model_module_version": "1.2.0",
            "_model_name": "LayoutModel",
            "_view_count": null,
            "_view_module": "@jupyter-widgets/base",
            "_view_module_version": "1.2.0",
            "_view_name": "LayoutView",
            "align_content": null,
            "align_items": null,
            "align_self": null,
            "border": null,
            "bottom": null,
            "display": null,
            "flex": null,
            "flex_flow": null,
            "grid_area": null,
            "grid_auto_columns": null,
            "grid_auto_flow": null,
            "grid_auto_rows": null,
            "grid_column": null,
            "grid_gap": null,
            "grid_row": null,
            "grid_template_areas": null,
            "grid_template_columns": null,
            "grid_template_rows": null,
            "height": null,
            "justify_content": null,
            "justify_items": null,
            "left": null,
            "margin": null,
            "max_height": null,
            "max_width": null,
            "min_height": null,
            "min_width": null,
            "object_fit": null,
            "object_position": null,
            "order": null,
            "overflow": null,
            "overflow_x": null,
            "overflow_y": null,
            "padding": null,
            "right": null,
            "top": null,
            "visibility": null,
            "width": null
          }
        },
        "006eb3bc08294b6baced85cb07681e9a": {
          "model_module": "@jupyter-widgets/controls",
          "model_name": "DescriptionStyleModel",
          "model_module_version": "1.5.0",
          "state": {
            "_model_module": "@jupyter-widgets/controls",
            "_model_module_version": "1.5.0",
            "_model_name": "DescriptionStyleModel",
            "_view_count": null,
            "_view_module": "@jupyter-widgets/base",
            "_view_module_version": "1.2.0",
            "_view_name": "StyleView",
            "description_width": ""
          }
        },
        "c3c19c7c418d4efbbc3377591b4caf62": {
          "model_module": "@jupyter-widgets/base",
          "model_name": "LayoutModel",
          "model_module_version": "1.2.0",
          "state": {
            "_model_module": "@jupyter-widgets/base",
            "_model_module_version": "1.2.0",
            "_model_name": "LayoutModel",
            "_view_count": null,
            "_view_module": "@jupyter-widgets/base",
            "_view_module_version": "1.2.0",
            "_view_name": "LayoutView",
            "align_content": null,
            "align_items": null,
            "align_self": null,
            "border": null,
            "bottom": null,
            "display": null,
            "flex": null,
            "flex_flow": null,
            "grid_area": null,
            "grid_auto_columns": null,
            "grid_auto_flow": null,
            "grid_auto_rows": null,
            "grid_column": null,
            "grid_gap": null,
            "grid_row": null,
            "grid_template_areas": null,
            "grid_template_columns": null,
            "grid_template_rows": null,
            "height": null,
            "justify_content": null,
            "justify_items": null,
            "left": null,
            "margin": null,
            "max_height": null,
            "max_width": null,
            "min_height": null,
            "min_width": null,
            "object_fit": null,
            "object_position": null,
            "order": null,
            "overflow": null,
            "overflow_x": null,
            "overflow_y": null,
            "padding": null,
            "right": null,
            "top": null,
            "visibility": null,
            "width": "20px"
          }
        },
        "805a63e885c14e78b7b3ffa0bed352bf": {
          "model_module": "@jupyter-widgets/controls",
          "model_name": "ProgressStyleModel",
          "model_module_version": "1.5.0",
          "state": {
            "_model_module": "@jupyter-widgets/controls",
            "_model_module_version": "1.5.0",
            "_model_name": "ProgressStyleModel",
            "_view_count": null,
            "_view_module": "@jupyter-widgets/base",
            "_view_module_version": "1.2.0",
            "_view_name": "StyleView",
            "bar_color": null,
            "description_width": ""
          }
        },
        "fa845ce3cff14f819fda8737e20c1bab": {
          "model_module": "@jupyter-widgets/base",
          "model_name": "LayoutModel",
          "model_module_version": "1.2.0",
          "state": {
            "_model_module": "@jupyter-widgets/base",
            "_model_module_version": "1.2.0",
            "_model_name": "LayoutModel",
            "_view_count": null,
            "_view_module": "@jupyter-widgets/base",
            "_view_module_version": "1.2.0",
            "_view_name": "LayoutView",
            "align_content": null,
            "align_items": null,
            "align_self": null,
            "border": null,
            "bottom": null,
            "display": null,
            "flex": null,
            "flex_flow": null,
            "grid_area": null,
            "grid_auto_columns": null,
            "grid_auto_flow": null,
            "grid_auto_rows": null,
            "grid_column": null,
            "grid_gap": null,
            "grid_row": null,
            "grid_template_areas": null,
            "grid_template_columns": null,
            "grid_template_rows": null,
            "height": null,
            "justify_content": null,
            "justify_items": null,
            "left": null,
            "margin": null,
            "max_height": null,
            "max_width": null,
            "min_height": null,
            "min_width": null,
            "object_fit": null,
            "object_position": null,
            "order": null,
            "overflow": null,
            "overflow_x": null,
            "overflow_y": null,
            "padding": null,
            "right": null,
            "top": null,
            "visibility": null,
            "width": null
          }
        },
        "7dc3516aec094d51b3c98afc1b68c38b": {
          "model_module": "@jupyter-widgets/controls",
          "model_name": "DescriptionStyleModel",
          "model_module_version": "1.5.0",
          "state": {
            "_model_module": "@jupyter-widgets/controls",
            "_model_module_version": "1.5.0",
            "_model_name": "DescriptionStyleModel",
            "_view_count": null,
            "_view_module": "@jupyter-widgets/base",
            "_view_module_version": "1.2.0",
            "_view_name": "StyleView",
            "description_width": ""
          }
        },
        "00a508bf85e14d708418579690430a86": {
          "model_module": "@jupyter-widgets/controls",
          "model_name": "HBoxModel",
          "model_module_version": "1.5.0",
          "state": {
            "_dom_classes": [],
            "_model_module": "@jupyter-widgets/controls",
            "_model_module_version": "1.5.0",
            "_model_name": "HBoxModel",
            "_view_count": null,
            "_view_module": "@jupyter-widgets/controls",
            "_view_module_version": "1.5.0",
            "_view_name": "HBoxView",
            "box_style": "",
            "children": [
              "IPY_MODEL_b196460511a44666b0a3101053a24d2f",
              "IPY_MODEL_b5a6ca4370f44862a060f8355f66649d",
              "IPY_MODEL_16e077b37fa04d4ba7fc26001c9f52f9"
            ],
            "layout": "IPY_MODEL_61ae0e9f0c25408a86770e6e022fd51b"
          }
        },
        "b196460511a44666b0a3101053a24d2f": {
          "model_module": "@jupyter-widgets/controls",
          "model_name": "HTMLModel",
          "model_module_version": "1.5.0",
          "state": {
            "_dom_classes": [],
            "_model_module": "@jupyter-widgets/controls",
            "_model_module_version": "1.5.0",
            "_model_name": "HTMLModel",
            "_view_count": null,
            "_view_module": "@jupyter-widgets/controls",
            "_view_module_version": "1.5.0",
            "_view_name": "HTMLView",
            "description": "",
            "description_tooltip": null,
            "layout": "IPY_MODEL_648a83f695534456a25b46949ffa9b5d",
            "placeholder": "​",
            "style": "IPY_MODEL_77f7e8e645814c36a4b97dd206decdd5",
            "value": ""
          }
        },
        "b5a6ca4370f44862a060f8355f66649d": {
          "model_module": "@jupyter-widgets/controls",
          "model_name": "FloatProgressModel",
          "model_module_version": "1.5.0",
          "state": {
            "_dom_classes": [],
            "_model_module": "@jupyter-widgets/controls",
            "_model_module_version": "1.5.0",
            "_model_name": "FloatProgressModel",
            "_view_count": null,
            "_view_module": "@jupyter-widgets/controls",
            "_view_module_version": "1.5.0",
            "_view_name": "ProgressView",
            "bar_style": "success",
            "description": "",
            "description_tooltip": null,
            "layout": "IPY_MODEL_d1b09a55d2d74bf1812c18a8d44a389b",
            "max": 1,
            "min": 0,
            "orientation": "horizontal",
            "style": "IPY_MODEL_da0d470b511345c0b224d2bb5416a932",
            "value": 1
          }
        },
        "16e077b37fa04d4ba7fc26001c9f52f9": {
          "model_module": "@jupyter-widgets/controls",
          "model_name": "HTMLModel",
          "model_module_version": "1.5.0",
          "state": {
            "_dom_classes": [],
            "_model_module": "@jupyter-widgets/controls",
            "_model_module_version": "1.5.0",
            "_model_name": "HTMLModel",
            "_view_count": null,
            "_view_module": "@jupyter-widgets/controls",
            "_view_module_version": "1.5.0",
            "_view_name": "HTMLView",
            "description": "",
            "description_tooltip": null,
            "layout": "IPY_MODEL_e3e91ebf6464487f8e4ed58fe7dcec4f",
            "placeholder": "​",
            "style": "IPY_MODEL_d6d42e1fa2744d218394e7793eb0773a",
            "value": " 14028800/? [00:00&lt;00:00, 22806904.88it/s]"
          }
        },
        "61ae0e9f0c25408a86770e6e022fd51b": {
          "model_module": "@jupyter-widgets/base",
          "model_name": "LayoutModel",
          "model_module_version": "1.2.0",
          "state": {
            "_model_module": "@jupyter-widgets/base",
            "_model_module_version": "1.2.0",
            "_model_name": "LayoutModel",
            "_view_count": null,
            "_view_module": "@jupyter-widgets/base",
            "_view_module_version": "1.2.0",
            "_view_name": "LayoutView",
            "align_content": null,
            "align_items": null,
            "align_self": null,
            "border": null,
            "bottom": null,
            "display": null,
            "flex": null,
            "flex_flow": null,
            "grid_area": null,
            "grid_auto_columns": null,
            "grid_auto_flow": null,
            "grid_auto_rows": null,
            "grid_column": null,
            "grid_gap": null,
            "grid_row": null,
            "grid_template_areas": null,
            "grid_template_columns": null,
            "grid_template_rows": null,
            "height": null,
            "justify_content": null,
            "justify_items": null,
            "left": null,
            "margin": null,
            "max_height": null,
            "max_width": null,
            "min_height": null,
            "min_width": null,
            "object_fit": null,
            "object_position": null,
            "order": null,
            "overflow": null,
            "overflow_x": null,
            "overflow_y": null,
            "padding": null,
            "right": null,
            "top": null,
            "visibility": null,
            "width": null
          }
        },
        "648a83f695534456a25b46949ffa9b5d": {
          "model_module": "@jupyter-widgets/base",
          "model_name": "LayoutModel",
          "model_module_version": "1.2.0",
          "state": {
            "_model_module": "@jupyter-widgets/base",
            "_model_module_version": "1.2.0",
            "_model_name": "LayoutModel",
            "_view_count": null,
            "_view_module": "@jupyter-widgets/base",
            "_view_module_version": "1.2.0",
            "_view_name": "LayoutView",
            "align_content": null,
            "align_items": null,
            "align_self": null,
            "border": null,
            "bottom": null,
            "display": null,
            "flex": null,
            "flex_flow": null,
            "grid_area": null,
            "grid_auto_columns": null,
            "grid_auto_flow": null,
            "grid_auto_rows": null,
            "grid_column": null,
            "grid_gap": null,
            "grid_row": null,
            "grid_template_areas": null,
            "grid_template_columns": null,
            "grid_template_rows": null,
            "height": null,
            "justify_content": null,
            "justify_items": null,
            "left": null,
            "margin": null,
            "max_height": null,
            "max_width": null,
            "min_height": null,
            "min_width": null,
            "object_fit": null,
            "object_position": null,
            "order": null,
            "overflow": null,
            "overflow_x": null,
            "overflow_y": null,
            "padding": null,
            "right": null,
            "top": null,
            "visibility": null,
            "width": null
          }
        },
        "77f7e8e645814c36a4b97dd206decdd5": {
          "model_module": "@jupyter-widgets/controls",
          "model_name": "DescriptionStyleModel",
          "model_module_version": "1.5.0",
          "state": {
            "_model_module": "@jupyter-widgets/controls",
            "_model_module_version": "1.5.0",
            "_model_name": "DescriptionStyleModel",
            "_view_count": null,
            "_view_module": "@jupyter-widgets/base",
            "_view_module_version": "1.2.0",
            "_view_name": "StyleView",
            "description_width": ""
          }
        },
        "d1b09a55d2d74bf1812c18a8d44a389b": {
          "model_module": "@jupyter-widgets/base",
          "model_name": "LayoutModel",
          "model_module_version": "1.2.0",
          "state": {
            "_model_module": "@jupyter-widgets/base",
            "_model_module_version": "1.2.0",
            "_model_name": "LayoutModel",
            "_view_count": null,
            "_view_module": "@jupyter-widgets/base",
            "_view_module_version": "1.2.0",
            "_view_name": "LayoutView",
            "align_content": null,
            "align_items": null,
            "align_self": null,
            "border": null,
            "bottom": null,
            "display": null,
            "flex": null,
            "flex_flow": null,
            "grid_area": null,
            "grid_auto_columns": null,
            "grid_auto_flow": null,
            "grid_auto_rows": null,
            "grid_column": null,
            "grid_gap": null,
            "grid_row": null,
            "grid_template_areas": null,
            "grid_template_columns": null,
            "grid_template_rows": null,
            "height": null,
            "justify_content": null,
            "justify_items": null,
            "left": null,
            "margin": null,
            "max_height": null,
            "max_width": null,
            "min_height": null,
            "min_width": null,
            "object_fit": null,
            "object_position": null,
            "order": null,
            "overflow": null,
            "overflow_x": null,
            "overflow_y": null,
            "padding": null,
            "right": null,
            "top": null,
            "visibility": null,
            "width": "20px"
          }
        },
        "da0d470b511345c0b224d2bb5416a932": {
          "model_module": "@jupyter-widgets/controls",
          "model_name": "ProgressStyleModel",
          "model_module_version": "1.5.0",
          "state": {
            "_model_module": "@jupyter-widgets/controls",
            "_model_module_version": "1.5.0",
            "_model_name": "ProgressStyleModel",
            "_view_count": null,
            "_view_module": "@jupyter-widgets/base",
            "_view_module_version": "1.2.0",
            "_view_name": "StyleView",
            "bar_color": null,
            "description_width": ""
          }
        },
        "e3e91ebf6464487f8e4ed58fe7dcec4f": {
          "model_module": "@jupyter-widgets/base",
          "model_name": "LayoutModel",
          "model_module_version": "1.2.0",
          "state": {
            "_model_module": "@jupyter-widgets/base",
            "_model_module_version": "1.2.0",
            "_model_name": "LayoutModel",
            "_view_count": null,
            "_view_module": "@jupyter-widgets/base",
            "_view_module_version": "1.2.0",
            "_view_name": "LayoutView",
            "align_content": null,
            "align_items": null,
            "align_self": null,
            "border": null,
            "bottom": null,
            "display": null,
            "flex": null,
            "flex_flow": null,
            "grid_area": null,
            "grid_auto_columns": null,
            "grid_auto_flow": null,
            "grid_auto_rows": null,
            "grid_column": null,
            "grid_gap": null,
            "grid_row": null,
            "grid_template_areas": null,
            "grid_template_columns": null,
            "grid_template_rows": null,
            "height": null,
            "justify_content": null,
            "justify_items": null,
            "left": null,
            "margin": null,
            "max_height": null,
            "max_width": null,
            "min_height": null,
            "min_width": null,
            "object_fit": null,
            "object_position": null,
            "order": null,
            "overflow": null,
            "overflow_x": null,
            "overflow_y": null,
            "padding": null,
            "right": null,
            "top": null,
            "visibility": null,
            "width": null
          }
        },
        "d6d42e1fa2744d218394e7793eb0773a": {
          "model_module": "@jupyter-widgets/controls",
          "model_name": "DescriptionStyleModel",
          "model_module_version": "1.5.0",
          "state": {
            "_model_module": "@jupyter-widgets/controls",
            "_model_module_version": "1.5.0",
            "_model_name": "DescriptionStyleModel",
            "_view_count": null,
            "_view_module": "@jupyter-widgets/base",
            "_view_module_version": "1.2.0",
            "_view_name": "StyleView",
            "description_width": ""
          }
        },
        "00cad28b5df5439f9c0384acf2683e8b": {
          "model_module": "@jupyter-widgets/controls",
          "model_name": "HBoxModel",
          "model_module_version": "1.5.0",
          "state": {
            "_dom_classes": [],
            "_model_module": "@jupyter-widgets/controls",
            "_model_module_version": "1.5.0",
            "_model_name": "HBoxModel",
            "_view_count": null,
            "_view_module": "@jupyter-widgets/controls",
            "_view_module_version": "1.5.0",
            "_view_name": "HBoxView",
            "box_style": "",
            "children": [
              "IPY_MODEL_8238649bbf6b4e25b8c8a13b3062ef4c",
              "IPY_MODEL_6bae28edc2ad487d9331a00b8ca1e388",
              "IPY_MODEL_475fcc2e0bec4acb955a4807439794a9"
            ],
            "layout": "IPY_MODEL_3317f1009a3a4735a5af9ae37c849d5b"
          }
        },
        "8238649bbf6b4e25b8c8a13b3062ef4c": {
          "model_module": "@jupyter-widgets/controls",
          "model_name": "HTMLModel",
          "model_module_version": "1.5.0",
          "state": {
            "_dom_classes": [],
            "_model_module": "@jupyter-widgets/controls",
            "_model_module_version": "1.5.0",
            "_model_name": "HTMLModel",
            "_view_count": null,
            "_view_module": "@jupyter-widgets/controls",
            "_view_module_version": "1.5.0",
            "_view_name": "HTMLView",
            "description": "",
            "description_tooltip": null,
            "layout": "IPY_MODEL_78b9f1fdb4f14b27af84545460d94a49",
            "placeholder": "​",
            "style": "IPY_MODEL_163a26b9d62e45f0a71083e8b72a9a3e",
            "value": "100%"
          }
        },
        "6bae28edc2ad487d9331a00b8ca1e388": {
          "model_module": "@jupyter-widgets/controls",
          "model_name": "FloatProgressModel",
          "model_module_version": "1.5.0",
          "state": {
            "_dom_classes": [],
            "_model_module": "@jupyter-widgets/controls",
            "_model_module_version": "1.5.0",
            "_model_name": "FloatProgressModel",
            "_view_count": null,
            "_view_module": "@jupyter-widgets/controls",
            "_view_module_version": "1.5.0",
            "_view_name": "ProgressView",
            "bar_style": "success",
            "description": "",
            "description_tooltip": null,
            "layout": "IPY_MODEL_0bcc4d07d95243609333f83eb5c46f0a",
            "max": 553433881,
            "min": 0,
            "orientation": "horizontal",
            "style": "IPY_MODEL_dd831522c45a45bfb2e13e24bb96e05f",
            "value": 553433881
          }
        },
        "475fcc2e0bec4acb955a4807439794a9": {
          "model_module": "@jupyter-widgets/controls",
          "model_name": "HTMLModel",
          "model_module_version": "1.5.0",
          "state": {
            "_dom_classes": [],
            "_model_module": "@jupyter-widgets/controls",
            "_model_module_version": "1.5.0",
            "_model_name": "HTMLModel",
            "_view_count": null,
            "_view_module": "@jupyter-widgets/controls",
            "_view_module_version": "1.5.0",
            "_view_name": "HTMLView",
            "description": "",
            "description_tooltip": null,
            "layout": "IPY_MODEL_7b8d7371616542b9806593b28db2ad45",
            "placeholder": "​",
            "style": "IPY_MODEL_de6a85788bd34db3b0ad1ffb24e94566",
            "value": " 528M/528M [00:02&lt;00:00, 231MB/s]"
          }
        },
        "3317f1009a3a4735a5af9ae37c849d5b": {
          "model_module": "@jupyter-widgets/base",
          "model_name": "LayoutModel",
          "model_module_version": "1.2.0",
          "state": {
            "_model_module": "@jupyter-widgets/base",
            "_model_module_version": "1.2.0",
            "_model_name": "LayoutModel",
            "_view_count": null,
            "_view_module": "@jupyter-widgets/base",
            "_view_module_version": "1.2.0",
            "_view_name": "LayoutView",
            "align_content": null,
            "align_items": null,
            "align_self": null,
            "border": null,
            "bottom": null,
            "display": null,
            "flex": null,
            "flex_flow": null,
            "grid_area": null,
            "grid_auto_columns": null,
            "grid_auto_flow": null,
            "grid_auto_rows": null,
            "grid_column": null,
            "grid_gap": null,
            "grid_row": null,
            "grid_template_areas": null,
            "grid_template_columns": null,
            "grid_template_rows": null,
            "height": null,
            "justify_content": null,
            "justify_items": null,
            "left": null,
            "margin": null,
            "max_height": null,
            "max_width": null,
            "min_height": null,
            "min_width": null,
            "object_fit": null,
            "object_position": null,
            "order": null,
            "overflow": null,
            "overflow_x": null,
            "overflow_y": null,
            "padding": null,
            "right": null,
            "top": null,
            "visibility": null,
            "width": null
          }
        },
        "78b9f1fdb4f14b27af84545460d94a49": {
          "model_module": "@jupyter-widgets/base",
          "model_name": "LayoutModel",
          "model_module_version": "1.2.0",
          "state": {
            "_model_module": "@jupyter-widgets/base",
            "_model_module_version": "1.2.0",
            "_model_name": "LayoutModel",
            "_view_count": null,
            "_view_module": "@jupyter-widgets/base",
            "_view_module_version": "1.2.0",
            "_view_name": "LayoutView",
            "align_content": null,
            "align_items": null,
            "align_self": null,
            "border": null,
            "bottom": null,
            "display": null,
            "flex": null,
            "flex_flow": null,
            "grid_area": null,
            "grid_auto_columns": null,
            "grid_auto_flow": null,
            "grid_auto_rows": null,
            "grid_column": null,
            "grid_gap": null,
            "grid_row": null,
            "grid_template_areas": null,
            "grid_template_columns": null,
            "grid_template_rows": null,
            "height": null,
            "justify_content": null,
            "justify_items": null,
            "left": null,
            "margin": null,
            "max_height": null,
            "max_width": null,
            "min_height": null,
            "min_width": null,
            "object_fit": null,
            "object_position": null,
            "order": null,
            "overflow": null,
            "overflow_x": null,
            "overflow_y": null,
            "padding": null,
            "right": null,
            "top": null,
            "visibility": null,
            "width": null
          }
        },
        "163a26b9d62e45f0a71083e8b72a9a3e": {
          "model_module": "@jupyter-widgets/controls",
          "model_name": "DescriptionStyleModel",
          "model_module_version": "1.5.0",
          "state": {
            "_model_module": "@jupyter-widgets/controls",
            "_model_module_version": "1.5.0",
            "_model_name": "DescriptionStyleModel",
            "_view_count": null,
            "_view_module": "@jupyter-widgets/base",
            "_view_module_version": "1.2.0",
            "_view_name": "StyleView",
            "description_width": ""
          }
        },
        "0bcc4d07d95243609333f83eb5c46f0a": {
          "model_module": "@jupyter-widgets/base",
          "model_name": "LayoutModel",
          "model_module_version": "1.2.0",
          "state": {
            "_model_module": "@jupyter-widgets/base",
            "_model_module_version": "1.2.0",
            "_model_name": "LayoutModel",
            "_view_count": null,
            "_view_module": "@jupyter-widgets/base",
            "_view_module_version": "1.2.0",
            "_view_name": "LayoutView",
            "align_content": null,
            "align_items": null,
            "align_self": null,
            "border": null,
            "bottom": null,
            "display": null,
            "flex": null,
            "flex_flow": null,
            "grid_area": null,
            "grid_auto_columns": null,
            "grid_auto_flow": null,
            "grid_auto_rows": null,
            "grid_column": null,
            "grid_gap": null,
            "grid_row": null,
            "grid_template_areas": null,
            "grid_template_columns": null,
            "grid_template_rows": null,
            "height": null,
            "justify_content": null,
            "justify_items": null,
            "left": null,
            "margin": null,
            "max_height": null,
            "max_width": null,
            "min_height": null,
            "min_width": null,
            "object_fit": null,
            "object_position": null,
            "order": null,
            "overflow": null,
            "overflow_x": null,
            "overflow_y": null,
            "padding": null,
            "right": null,
            "top": null,
            "visibility": null,
            "width": null
          }
        },
        "dd831522c45a45bfb2e13e24bb96e05f": {
          "model_module": "@jupyter-widgets/controls",
          "model_name": "ProgressStyleModel",
          "model_module_version": "1.5.0",
          "state": {
            "_model_module": "@jupyter-widgets/controls",
            "_model_module_version": "1.5.0",
            "_model_name": "ProgressStyleModel",
            "_view_count": null,
            "_view_module": "@jupyter-widgets/base",
            "_view_module_version": "1.2.0",
            "_view_name": "StyleView",
            "bar_color": null,
            "description_width": ""
          }
        },
        "7b8d7371616542b9806593b28db2ad45": {
          "model_module": "@jupyter-widgets/base",
          "model_name": "LayoutModel",
          "model_module_version": "1.2.0",
          "state": {
            "_model_module": "@jupyter-widgets/base",
            "_model_module_version": "1.2.0",
            "_model_name": "LayoutModel",
            "_view_count": null,
            "_view_module": "@jupyter-widgets/base",
            "_view_module_version": "1.2.0",
            "_view_name": "LayoutView",
            "align_content": null,
            "align_items": null,
            "align_self": null,
            "border": null,
            "bottom": null,
            "display": null,
            "flex": null,
            "flex_flow": null,
            "grid_area": null,
            "grid_auto_columns": null,
            "grid_auto_flow": null,
            "grid_auto_rows": null,
            "grid_column": null,
            "grid_gap": null,
            "grid_row": null,
            "grid_template_areas": null,
            "grid_template_columns": null,
            "grid_template_rows": null,
            "height": null,
            "justify_content": null,
            "justify_items": null,
            "left": null,
            "margin": null,
            "max_height": null,
            "max_width": null,
            "min_height": null,
            "min_width": null,
            "object_fit": null,
            "object_position": null,
            "order": null,
            "overflow": null,
            "overflow_x": null,
            "overflow_y": null,
            "padding": null,
            "right": null,
            "top": null,
            "visibility": null,
            "width": null
          }
        },
        "de6a85788bd34db3b0ad1ffb24e94566": {
          "model_module": "@jupyter-widgets/controls",
          "model_name": "DescriptionStyleModel",
          "model_module_version": "1.5.0",
          "state": {
            "_model_module": "@jupyter-widgets/controls",
            "_model_module_version": "1.5.0",
            "_model_name": "DescriptionStyleModel",
            "_view_count": null,
            "_view_module": "@jupyter-widgets/base",
            "_view_module_version": "1.2.0",
            "_view_name": "StyleView",
            "description_width": ""
          }
        }
      }
    },
    "accelerator": "GPU"
  },
  "cells": [
    {
      "cell_type": "code",
      "source": [
        "#### Q1 begins ####"
      ],
      "metadata": {
        "id": "oB2DyeAKMGUf"
      },
      "execution_count": 1,
      "outputs": []
    },
    {
      "cell_type": "code",
      "source": [
        "import torch\n",
        "import torch.nn as nn \n",
        "import torchvision\n",
        "import torchvision.models as models\n",
        "import torchvision.transforms as transforms\n",
        "from torch.utils.data import Dataset, DataLoader\n",
        "from sklearn.preprocessing import LabelEncoder\n",
        "\n",
        "import numpy as np\n",
        "from sklearn.model_selection import train_test_split\n",
        "from sklearn.metrics import mean_squared_error, mean_absolute_error\n",
        "import matplotlib.pyplot as plt\n",
        "%matplotlib inline\n",
        "    \n",
        "from tqdm import tqdm\n",
        "from imutils import paths\n",
        "from PIL import Image\n",
        "import os\n",
        "import copy\n",
        "import time"
      ],
      "metadata": {
        "id": "MuyABzDpN6ET"
      },
      "execution_count": 2,
      "outputs": []
    },
    {
      "cell_type": "code",
      "source": [
        "# downloads Caltech101 images from torchvision.datasets\n",
        "torchvision.datasets.Caltech101(root='./data', download=True)"
      ],
      "metadata": {
        "colab": {
          "base_uri": "https://localhost:8080/",
          "height": 185,
          "referenced_widgets": [
            "8dac876826a145f8846e4d0a6f5182f3",
            "1fdc458ebb4e4542a9cf1c54c440b72b",
            "3fa8761663364799a862d14058bb1b5a",
            "8a1659dd31ef4782945da06cd6c0d2fe",
            "d4531e710a42428ebd9d3cba55f629ea",
            "a8378632c5d7431aa9c62c0f540573a1",
            "006eb3bc08294b6baced85cb07681e9a",
            "c3c19c7c418d4efbbc3377591b4caf62",
            "805a63e885c14e78b7b3ffa0bed352bf",
            "fa845ce3cff14f819fda8737e20c1bab",
            "7dc3516aec094d51b3c98afc1b68c38b",
            "00a508bf85e14d708418579690430a86",
            "b196460511a44666b0a3101053a24d2f",
            "b5a6ca4370f44862a060f8355f66649d",
            "16e077b37fa04d4ba7fc26001c9f52f9",
            "61ae0e9f0c25408a86770e6e022fd51b",
            "648a83f695534456a25b46949ffa9b5d",
            "77f7e8e645814c36a4b97dd206decdd5",
            "d1b09a55d2d74bf1812c18a8d44a389b",
            "da0d470b511345c0b224d2bb5416a932",
            "e3e91ebf6464487f8e4ed58fe7dcec4f",
            "d6d42e1fa2744d218394e7793eb0773a"
          ]
        },
        "id": "ZJ9_K4ntOtD3",
        "outputId": "bc71ade2-ca36-4451-a01c-2f090483ddf3"
      },
      "execution_count": 3,
      "outputs": [
        {
          "output_type": "display_data",
          "data": {
            "text/plain": [
              "0it [00:00, ?it/s]"
            ],
            "application/vnd.jupyter.widget-view+json": {
              "version_major": 2,
              "version_minor": 0,
              "model_id": "8dac876826a145f8846e4d0a6f5182f3"
            }
          },
          "metadata": {}
        },
        {
          "output_type": "stream",
          "name": "stdout",
          "text": [
            "Extracting ./data/caltech101/101_ObjectCategories.tar.gz to ./data/caltech101\n"
          ]
        },
        {
          "output_type": "display_data",
          "data": {
            "text/plain": [
              "0it [00:00, ?it/s]"
            ],
            "application/vnd.jupyter.widget-view+json": {
              "version_major": 2,
              "version_minor": 0,
              "model_id": "00a508bf85e14d708418579690430a86"
            }
          },
          "metadata": {}
        },
        {
          "output_type": "stream",
          "name": "stdout",
          "text": [
            "Extracting ./data/caltech101/Annotations.tar to ./data/caltech101\n"
          ]
        },
        {
          "output_type": "execute_result",
          "data": {
            "text/plain": [
              "Dataset Caltech101\n",
              "    Number of datapoints: 8677\n",
              "    Root location: ./data/caltech101\n",
              "    Target type: ['category']"
            ]
          },
          "metadata": {},
          "execution_count": 3
        }
      ]
    },
    {
      "cell_type": "code",
      "source": [
        "!pip install imutils"
      ],
      "metadata": {
        "colab": {
          "base_uri": "https://localhost:8080/"
        },
        "id": "v1obaWwjajbd",
        "outputId": "dfd78dc7-ad56-46e5-83ac-9d1206d6c260"
      },
      "execution_count": 4,
      "outputs": [
        {
          "output_type": "stream",
          "name": "stdout",
          "text": [
            "Looking in indexes: https://pypi.org/simple, https://us-python.pkg.dev/colab-wheels/public/simple/\n",
            "Requirement already satisfied: imutils in /usr/local/lib/python3.8/dist-packages (0.5.4)\n"
          ]
        }
      ]
    },
    {
      "cell_type": "code",
      "source": [
        "# setting the device to GPU if available\n",
        "device = torch.device(\"cuda\" if torch.cuda.is_available() else \"cpu\")"
      ],
      "metadata": {
        "id": "6pRj3M5QCcsH"
      },
      "execution_count": 5,
      "outputs": []
    },
    {
      "cell_type": "code",
      "source": [
        "# gets the list of all the images (their paths) present in the dataset\n",
        "image_paths = sorted(list(paths.list_images('/content/data/caltech101/101_ObjectCategories')))"
      ],
      "metadata": {
        "id": "WDqDVEtMYeJ4"
      },
      "execution_count": 6,
      "outputs": []
    },
    {
      "cell_type": "code",
      "source": [
        "X = [] # image data (list of numpy arrays)\n",
        "y = [] # labels (list of strings)\n",
        "\n",
        "for img_path in tqdm(image_paths):\n",
        "    img_class = img_path.split(os.path.sep)[-2]\n",
        "\n",
        "    if img_class == \"BACKGROUND_Google\":\n",
        "        continue\n",
        "\n",
        "    # Read the image from the specified location in pil format and convert it into a numpy array\n",
        "    pil_img = Image.open(img_path).convert('RGB')\n",
        "    np_img = np.asarray(pil_img)\n",
        "\n",
        "    X.append(np_img)\n",
        "    y.append(img_class)\n",
        "    \n",
        "X = np.array(X, dtype=object)\n",
        "y = np.array(y)"
      ],
      "metadata": {
        "colab": {
          "base_uri": "https://localhost:8080/"
        },
        "id": "EW6Lqne_4DKh",
        "outputId": "0ff789bd-6115-46b7-bf09-7a198b22ba66"
      },
      "execution_count": 7,
      "outputs": [
        {
          "output_type": "stream",
          "name": "stderr",
          "text": [
            "100%|██████████| 9144/9144 [00:20<00:00, 449.74it/s]\n"
          ]
        }
      ]
    },
    {
      "cell_type": "code",
      "source": [
        "# printing a sample image and its label\n",
        "plt.imshow(X[3000])\n",
        "print(y[3000])"
      ],
      "metadata": {
        "colab": {
          "base_uri": "https://localhost:8080/",
          "height": 286
        },
        "id": "o81MZ5zJa3aX",
        "outputId": "dbb5a6e5-7c4b-4d5b-afe6-7c04166687e7"
      },
      "execution_count": 8,
      "outputs": [
        {
          "output_type": "stream",
          "name": "stdout",
          "text": [
            "bonsai\n"
          ]
        },
        {
          "output_type": "display_data",
          "data": {
            "text/plain": [
              "<Figure size 432x288 with 1 Axes>"
            ],
            "image/png": "[encoded data removed]"
          },
          "metadata": {
            "needs_background": "light"
          }
        }
      ]
    },
    {
      "cell_type": "code",
      "source": [
        "# checking the number of unique y's - i.e. number of classes present in the dataset\n",
        "np.unique(y).shape"
      ],
      "metadata": {
        "colab": {
          "base_uri": "https://localhost:8080/"
        },
        "id": "oQZsr1_E_fai",
        "outputId": "963a0649-0255-48e4-80cc-e11c7918c85b"
      },
      "execution_count": 9,
      "outputs": [
        {
          "output_type": "execute_result",
          "data": {
            "text/plain": [
              "(101,)"
            ]
          },
          "metadata": {},
          "execution_count": 9
        }
      ]
    },
    {
      "cell_type": "code",
      "source": [
        "# converting the y's from strings to numeric values - from 0 to 100\n",
        "lb_enc = LabelEncoder()\n",
        "y = lb_enc.fit_transform(y)"
      ],
      "metadata": {
        "id": "167F7kEnrg8a"
      },
      "execution_count": 10,
      "outputs": []
    },
    {
      "cell_type": "code",
      "source": [
        "# just seeing all the class names from the dataset\n",
        "print(lb_enc.classes_)"
      ],
      "metadata": {
        "colab": {
          "base_uri": "https://localhost:8080/"
        },
        "id": "vQrGNM8lvc9E",
        "outputId": "f8ea5330-b95e-47ea-c37d-0e0e35c2dca7"
      },
      "execution_count": 11,
      "outputs": [
        {
          "output_type": "stream",
          "name": "stdout",
          "text": [
            "['Faces' 'Faces_easy' 'Leopards' 'Motorbikes' 'accordion' 'airplanes'\n",
            " 'anchor' 'ant' 'barrel' 'bass' 'beaver' 'binocular' 'bonsai' 'brain'\n",
            " 'brontosaurus' 'buddha' 'butterfly' 'camera' 'cannon' 'car_side'\n",
            " 'ceiling_fan' 'cellphone' 'chair' 'chandelier' 'cougar_body'\n",
            " 'cougar_face' 'crab' 'crayfish' 'crocodile' 'crocodile_head' 'cup'\n",
            " 'dalmatian' 'dollar_bill' 'dolphin' 'dragonfly' 'electric_guitar'\n",
            " 'elephant' 'emu' 'euphonium' 'ewer' 'ferry' 'flamingo' 'flamingo_head'\n",
            " 'garfield' 'gerenuk' 'gramophone' 'grand_piano' 'hawksbill' 'headphone'\n",
            " 'hedgehog' 'helicopter' 'ibis' 'inline_skate' 'joshua_tree' 'kangaroo'\n",
            " 'ketch' 'lamp' 'laptop' 'llama' 'lobster' 'lotus' 'mandolin' 'mayfly'\n",
            " 'menorah' 'metronome' 'minaret' 'nautilus' 'octopus' 'okapi' 'pagoda'\n",
            " 'panda' 'pigeon' 'pizza' 'platypus' 'pyramid' 'revolver' 'rhino'\n",
            " 'rooster' 'saxophone' 'schooner' 'scissors' 'scorpion' 'sea_horse'\n",
            " 'snoopy' 'soccer_ball' 'stapler' 'starfish' 'stegosaurus' 'stop_sign'\n",
            " 'strawberry' 'sunflower' 'tick' 'trilobite' 'umbrella' 'watch'\n",
            " 'water_lilly' 'wheelchair' 'wild_cat' 'windsor_chair' 'wrench' 'yin_yang']\n"
          ]
        }
      ]
    },
    {
      "cell_type": "code",
      "source": [
        "# divide the data into train, validation, and test set\n",
        "X_trainval, X_test, y_trainval, y_test = train_test_split(X, y, test_size=0.2, random_state=42)\n",
        "X_train, X_val, y_train, y_val = train_test_split(X_trainval, y_trainval, test_size=0.2, stratify=y_trainval, random_state=42) # maintains the proportion of classes in y_train and y_val according to y_trainval array\n",
        "\n",
        "print(f\"Training set size: {X_train.shape}\")\n",
        "print(f\"Validation set size: {X_val.shape}\")\n",
        "print(f\"Test set size: {X_test.shape}\")"
      ],
      "metadata": {
        "colab": {
          "base_uri": "https://localhost:8080/"
        },
        "id": "CsqXYdlXa83b",
        "outputId": "364a6250-72a0-4337-b0ae-fea1c8dfb1ac"
      },
      "execution_count": 12,
      "outputs": [
        {
          "output_type": "stream",
          "name": "stdout",
          "text": [
            "Training set size: (5552,)\n",
            "Validation set size: (1389,)\n",
            "Test set size: (1736,)\n"
          ]
        }
      ]
    },
    {
      "cell_type": "code",
      "source": [
        "# defining the torchvision transforms for the image data for resizing the variable sized images into fixed size and normalising them\n",
        "\n",
        "VGG_MEAN = np.array([0.485, 0.456, 0.406])\n",
        "VGG_STD = np.array([0.229, 0.224, 0.225])\n",
        "\n",
        "image_transforms = transforms.Compose([\n",
        "    transforms.ToPILImage(),\n",
        "    transforms.Resize((224, 224)),\n",
        "    transforms.ToTensor(),\n",
        "    transforms.Normalize(mean = VGG_MEAN, std = VGG_STD)\n",
        "])"
      ],
      "metadata": {
        "id": "93lYSiT1HOAE"
      },
      "execution_count": 13,
      "outputs": []
    },
    {
      "cell_type": "code",
      "source": [
        "class Caltech101_torch(Dataset):\n",
        "    \"\"\" PyTorch dataset class for Caltech101 \"\"\"\n",
        "    \n",
        "    def __init__(self, images, labels=None, transforms=None):\n",
        "        self.y = labels\n",
        "        self.X = images\n",
        "        self.transforms = transforms\n",
        "        \n",
        "    # returns the number of samples in the dataset\n",
        "    def __len__(self):\n",
        "        return self.y.shape[0]\n",
        "    \n",
        "    # returns the sample at specified index\n",
        "    def __getitem__(self, idx):\n",
        "        np_img = self.X[idx][:] # image in numpy ndarray format\n",
        "        \n",
        "        # apply transforms \n",
        "        torch_img = np_img\n",
        "        if self.transforms is not None:\n",
        "            torch_img = self.transforms(torch_img)\n",
        "        \n",
        "        if self.y is not None:\n",
        "            label = self.y[idx]\n",
        "            return (torch_img, label)\n",
        "        else:\n",
        "            return torch_img "
      ],
      "metadata": {
        "id": "rEc_XeCztiMP"
      },
      "execution_count": 14,
      "outputs": []
    },
    {
      "cell_type": "code",
      "source": [
        "# creating the torch train, validation and test datasets from the respective numpy arrays\n",
        "\n",
        "train_dataset = Caltech101_torch(images=X_train, labels=y_train, transforms=image_transforms)\n",
        "val_dataset = Caltech101_torch(images=X_val, labels=y_val, transforms=image_transforms)\n",
        "test_dataset = Caltech101_torch(images=X_test, labels=y_test, transforms=image_transforms)"
      ],
      "metadata": {
        "id": "2KfVQNahczMv"
      },
      "execution_count": 15,
      "outputs": []
    },
    {
      "cell_type": "code",
      "source": [
        "# creating the respective dataloaders\n",
        "\n",
        "train_dataloader = DataLoader(train_dataset, batch_size=64, shuffle=True, num_workers=2)\n",
        "val_dataloader = DataLoader(val_dataset, batch_size=64, num_workers=2)\n",
        "test_dataloader = DataLoader(test_dataset, batch_size=1, num_workers=2) "
      ],
      "metadata": {
        "id": "RLuYYz08vvHo"
      },
      "execution_count": 16,
      "outputs": []
    },
    {
      "cell_type": "code",
      "source": [
        "# checking the dataset sizes\n",
        "\n",
        "print(f\"Training set size: {len(train_dataset)}\")\n",
        "print(f\"Validation set size: {len(val_dataset)}\")\n",
        "print(f\"Test set size: {len(test_dataset)}\")"
      ],
      "metadata": {
        "colab": {
          "base_uri": "https://localhost:8080/"
        },
        "id": "qEZZ0yogysZ4",
        "outputId": "ea82fbc8-9f8c-4832-d753-03cf9a3dd638"
      },
      "execution_count": 17,
      "outputs": [
        {
          "output_type": "stream",
          "name": "stdout",
          "text": [
            "Training set size: 5552\n",
            "Validation set size: 1389\n",
            "Test set size: 1736\n"
          ]
        }
      ]
    },
    {
      "cell_type": "code",
      "source": [
        "# checking the shape of an input image\n",
        "\n",
        "print(train_dataset[0][0].shape)"
      ],
      "metadata": {
        "id": "UJ59juU1dUol",
        "colab": {
          "base_uri": "https://localhost:8080/"
        },
        "outputId": "b799df8c-8792-4870-c4fb-0df86003dca6"
      },
      "execution_count": 18,
      "outputs": [
        {
          "output_type": "stream",
          "name": "stdout",
          "text": [
            "torch.Size([3, 224, 224])\n"
          ]
        }
      ]
    },
    {
      "cell_type": "code",
      "source": [
        "## Firstly, doing transfer learning on VGG16 pretrained on ILSVRC - training only the last layer (classification head) + finetuning last few layers with very low lr"
      ],
      "metadata": {
        "id": "Cc-lipns08zM"
      },
      "execution_count": 19,
      "outputs": []
    },
    {
      "cell_type": "code",
      "source": [
        "# loading the pretrained vgg16 model\n",
        "vgg16_model = models.vgg16(weights='DEFAULT')"
      ],
      "metadata": {
        "colab": {
          "base_uri": "https://localhost:8080/",
          "height": 66,
          "referenced_widgets": [
            "00cad28b5df5439f9c0384acf2683e8b",
            "8238649bbf6b4e25b8c8a13b3062ef4c",
            "6bae28edc2ad487d9331a00b8ca1e388",
            "475fcc2e0bec4acb955a4807439794a9",
            "3317f1009a3a4735a5af9ae37c849d5b",
            "78b9f1fdb4f14b27af84545460d94a49",
            "163a26b9d62e45f0a71083e8b72a9a3e",
            "0bcc4d07d95243609333f83eb5c46f0a",
            "dd831522c45a45bfb2e13e24bb96e05f",
            "7b8d7371616542b9806593b28db2ad45",
            "de6a85788bd34db3b0ad1ffb24e94566"
          ]
        },
        "id": "nfq57WS-gpup",
        "outputId": "9c42fd72-b9bb-40a7-ead2-b7af4ed08922"
      },
      "execution_count": 20,
      "outputs": [
        {
          "output_type": "stream",
          "name": "stderr",
          "text": [
            "Downloading: \"https://download.pytorch.org/models/vgg16-397923af.pth\" to /root/.cache/torch/hub/checkpoints/vgg16-397923af.pth\n"
          ]
        },
        {
          "output_type": "display_data",
          "data": {
            "text/plain": [
              "  0%|          | 0.00/528M [00:00<?, ?B/s]"
            ],
            "application/vnd.jupyter.widget-view+json": {
              "version_major": 2,
              "version_minor": 0,
              "model_id": "00cad28b5df5439f9c0384acf2683e8b"
            }
          },
          "metadata": {}
        }
      ]
    },
    {
      "cell_type": "code",
      "source": [
        "# examining the model architecture\n",
        "vgg16_model"
      ],
      "metadata": {
        "colab": {
          "base_uri": "https://localhost:8080/"
        },
        "id": "FpDLsXp3-2B1",
        "outputId": "cfbb729f-e691-41a5-c928-ecc41bc5e9ca"
      },
      "execution_count": 21,
      "outputs": [
        {
          "output_type": "execute_result",
          "data": {
            "text/plain": [
              "VGG(\n",
              "  (features): Sequential(\n",
              "    (0): Conv2d(3, 64, kernel_size=(3, 3), stride=(1, 1), padding=(1, 1))\n",
              "    (1): ReLU(inplace=True)\n",
              "    (2): Conv2d(64, 64, kernel_size=(3, 3), stride=(1, 1), padding=(1, 1))\n",
              "    (3): ReLU(inplace=True)\n",
              "    (4): MaxPool2d(kernel_size=2, stride=2, padding=0, dilation=1, ceil_mode=False)\n",
              "    (5): Conv2d(64, 128, kernel_size=(3, 3), stride=(1, 1), padding=(1, 1))\n",
              "    (6): ReLU(inplace=True)\n",
              "    (7): Conv2d(128, 128, kernel_size=(3, 3), stride=(1, 1), padding=(1, 1))\n",
              "    (8): ReLU(inplace=True)\n",
              "    (9): MaxPool2d(kernel_size=2, stride=2, padding=0, dilation=1, ceil_mode=False)\n",
              "    (10): Conv2d(128, 256, kernel_size=(3, 3), stride=(1, 1), padding=(1, 1))\n",
              "    (11): ReLU(inplace=True)\n",
              "    (12): Conv2d(256, 256, kernel_size=(3, 3), stride=(1, 1), padding=(1, 1))\n",
              "    (13): ReLU(inplace=True)\n",
              "    (14): Conv2d(256, 256, kernel_size=(3, 3), stride=(1, 1), padding=(1, 1))\n",
              "    (15): ReLU(inplace=True)\n",
              "    (16): MaxPool2d(kernel_size=2, stride=2, padding=0, dilation=1, ceil_mode=False)\n",
              "    (17): Conv2d(256, 512, kernel_size=(3, 3), stride=(1, 1), padding=(1, 1))\n",
              "    (18): ReLU(inplace=True)\n",
              "    (19): Conv2d(512, 512, kernel_size=(3, 3), stride=(1, 1), padding=(1, 1))\n",
              "    (20): ReLU(inplace=True)\n",
              "    (21): Conv2d(512, 512, kernel_size=(3, 3), stride=(1, 1), padding=(1, 1))\n",
              "    (22): ReLU(inplace=True)\n",
              "    (23): MaxPool2d(kernel_size=2, stride=2, padding=0, dilation=1, ceil_mode=False)\n",
              "    (24): Conv2d(512, 512, kernel_size=(3, 3), stride=(1, 1), padding=(1, 1))\n",
              "    (25): ReLU(inplace=True)\n",
              "    (26): Conv2d(512, 512, kernel_size=(3, 3), stride=(1, 1), padding=(1, 1))\n",
              "    (27): ReLU(inplace=True)\n",
              "    (28): Conv2d(512, 512, kernel_size=(3, 3), stride=(1, 1), padding=(1, 1))\n",
              "    (29): ReLU(inplace=True)\n",
              "    (30): MaxPool2d(kernel_size=2, stride=2, padding=0, dilation=1, ceil_mode=False)\n",
              "  )\n",
              "  (avgpool): AdaptiveAvgPool2d(output_size=(7, 7))\n",
              "  (classifier): Sequential(\n",
              "    (0): Linear(in_features=25088, out_features=4096, bias=True)\n",
              "    (1): ReLU(inplace=True)\n",
              "    (2): Dropout(p=0.5, inplace=False)\n",
              "    (3): Linear(in_features=4096, out_features=4096, bias=True)\n",
              "    (4): ReLU(inplace=True)\n",
              "    (5): Dropout(p=0.5, inplace=False)\n",
              "    (6): Linear(in_features=4096, out_features=1000, bias=True)\n",
              "  )\n",
              ")"
            ]
          },
          "metadata": {},
          "execution_count": 21
        }
      ]
    },
    {
      "cell_type": "code",
      "source": [
        "# freeze the params of all layers\n",
        "for param in vgg16_model.parameters():\n",
        "    param.requires_grad = False"
      ],
      "metadata": {
        "id": "jt1FBDwQgyNs"
      },
      "execution_count": 22,
      "outputs": []
    },
    {
      "cell_type": "code",
      "source": [
        "# changing the classification head of the model from 1000 dim to 101 dim\n",
        "vgg16_model.classifier[6] = nn.Linear(in_features=4096, out_features=101)"
      ],
      "metadata": {
        "id": "y2DcFvaB-nxE"
      },
      "execution_count": 23,
      "outputs": []
    },
    {
      "cell_type": "code",
      "source": [
        "# printing just the trainable parameters of the model\n",
        "for name, param in vgg16_model.named_parameters():\n",
        "    if param.requires_grad == True:\n",
        "        print(name)"
      ],
      "metadata": {
        "colab": {
          "base_uri": "https://localhost:8080/"
        },
        "id": "SCNSqcZFiWcn",
        "outputId": "f9f0be6b-bfd5-4706-d150-85abbc0886cc"
      },
      "execution_count": 24,
      "outputs": [
        {
          "output_type": "stream",
          "name": "stdout",
          "text": [
            "classifier.6.weight\n",
            "classifier.6.bias\n"
          ]
        }
      ]
    },
    {
      "cell_type": "code",
      "source": [
        "# move the model to GPU\n",
        "vgg16_model.to(device)"
      ],
      "metadata": {
        "colab": {
          "base_uri": "https://localhost:8080/"
        },
        "id": "oPjqVqCllPmF",
        "outputId": "e636c605-dbe7-442d-bb4a-6ce8badbef1d"
      },
      "execution_count": 25,
      "outputs": [
        {
          "output_type": "execute_result",
          "data": {
            "text/plain": [
              "VGG(\n",
              "  (features): Sequential(\n",
              "    (0): Conv2d(3, 64, kernel_size=(3, 3), stride=(1, 1), padding=(1, 1))\n",
              "    (1): ReLU(inplace=True)\n",
              "    (2): Conv2d(64, 64, kernel_size=(3, 3), stride=(1, 1), padding=(1, 1))\n",
              "    (3): ReLU(inplace=True)\n",
              "    (4): MaxPool2d(kernel_size=2, stride=2, padding=0, dilation=1, ceil_mode=False)\n",
              "    (5): Conv2d(64, 128, kernel_size=(3, 3), stride=(1, 1), padding=(1, 1))\n",
              "    (6): ReLU(inplace=True)\n",
              "    (7): Conv2d(128, 128, kernel_size=(3, 3), stride=(1, 1), padding=(1, 1))\n",
              "    (8): ReLU(inplace=True)\n",
              "    (9): MaxPool2d(kernel_size=2, stride=2, padding=0, dilation=1, ceil_mode=False)\n",
              "    (10): Conv2d(128, 256, kernel_size=(3, 3), stride=(1, 1), padding=(1, 1))\n",
              "    (11): ReLU(inplace=True)\n",
              "    (12): Conv2d(256, 256, kernel_size=(3, 3), stride=(1, 1), padding=(1, 1))\n",
              "    (13): ReLU(inplace=True)\n",
              "    (14): Conv2d(256, 256, kernel_size=(3, 3), stride=(1, 1), padding=(1, 1))\n",
              "    (15): ReLU(inplace=True)\n",
              "    (16): MaxPool2d(kernel_size=2, stride=2, padding=0, dilation=1, ceil_mode=False)\n",
              "    (17): Conv2d(256, 512, kernel_size=(3, 3), stride=(1, 1), padding=(1, 1))\n",
              "    (18): ReLU(inplace=True)\n",
              "    (19): Conv2d(512, 512, kernel_size=(3, 3), stride=(1, 1), padding=(1, 1))\n",
              "    (20): ReLU(inplace=True)\n",
              "    (21): Conv2d(512, 512, kernel_size=(3, 3), stride=(1, 1), padding=(1, 1))\n",
              "    (22): ReLU(inplace=True)\n",
              "    (23): MaxPool2d(kernel_size=2, stride=2, padding=0, dilation=1, ceil_mode=False)\n",
              "    (24): Conv2d(512, 512, kernel_size=(3, 3), stride=(1, 1), padding=(1, 1))\n",
              "    (25): ReLU(inplace=True)\n",
              "    (26): Conv2d(512, 512, kernel_size=(3, 3), stride=(1, 1), padding=(1, 1))\n",
              "    (27): ReLU(inplace=True)\n",
              "    (28): Conv2d(512, 512, kernel_size=(3, 3), stride=(1, 1), padding=(1, 1))\n",
              "    (29): ReLU(inplace=True)\n",
              "    (30): MaxPool2d(kernel_size=2, stride=2, padding=0, dilation=1, ceil_mode=False)\n",
              "  )\n",
              "  (avgpool): AdaptiveAvgPool2d(output_size=(7, 7))\n",
              "  (classifier): Sequential(\n",
              "    (0): Linear(in_features=25088, out_features=4096, bias=True)\n",
              "    (1): ReLU(inplace=True)\n",
              "    (2): Dropout(p=0.5, inplace=False)\n",
              "    (3): Linear(in_features=4096, out_features=4096, bias=True)\n",
              "    (4): ReLU(inplace=True)\n",
              "    (5): Dropout(p=0.5, inplace=False)\n",
              "    (6): Linear(in_features=4096, out_features=101, bias=True)\n",
              "  )\n",
              ")"
            ]
          },
          "metadata": {},
          "execution_count": 25
        }
      ]
    },
    {
      "cell_type": "code",
      "source": [
        "@torch.no_grad()\n",
        "def validate(model, criterion):\n",
        "    \"\"\"\n",
        "        Runs the model on the validation set to compute the validation loss and accuracy.\n",
        "\n",
        "        Inputs: \n",
        "        - model: The model to use\n",
        "        - criterion: The loss function\n",
        "\n",
        "        Returns:\n",
        "        - val_loss: Avg loss over the validation set\n",
        "        - val_acc: Accuracy of the model on the validation set\n",
        "    \"\"\"\n",
        "    \n",
        "    running_loss = 0.0\n",
        "    running_corrects = 0\n",
        "\n",
        "    model.eval()\n",
        "\n",
        "    for X_batch, y_batch in val_dataloader:\n",
        "        X_batch = X_batch.to(device)\n",
        "        y_batch = y_batch.to(device)\n",
        "\n",
        "        # forward pass + compute loss\n",
        "        outputs_batch = model(X_batch)\n",
        "        _, preds_batch = torch.max(outputs_batch, dim=1)\n",
        "        loss = criterion(outputs_batch, y_batch)\n",
        "\n",
        "        # stats\n",
        "        batch_size = X_batch.shape[0]\n",
        "        running_loss += loss.item() * batch_size\n",
        "        running_corrects += torch.sum(preds_batch == y_batch.detach())\n",
        "\n",
        "    val_loss = running_loss / len(val_dataset)\n",
        "    val_acc = running_corrects.double() / len(val_dataset)\n",
        "\n",
        "    return val_loss, val_acc"
      ],
      "metadata": {
        "id": "06pftGNARmYo"
      },
      "execution_count": 26,
      "outputs": []
    },
    {
      "cell_type": "code",
      "source": [
        "def train(model, criterion, optimizer, scheduler=None, num_epochs=25, start_epoch=0):\n",
        "    \"\"\"\n",
        "      Trains the model under specified settings.\n",
        "\n",
        "      Inputs:\n",
        "      - model: The model to train\n",
        "      - criterion: The loss function to use\n",
        "      - optimizer: Optimizer to use\n",
        "      - scheduler: Learning rate scheduler (default: None)\n",
        "      - num_epochs: Number of epochs to train the model for (default: 25)\n",
        "      - start_epoch: To start training from which epoch incase the model is already trained before (default: 0)\n",
        "\n",
        "      Returns:\n",
        "      - train_losses: List of train losses recorded after each epoch.\n",
        "      - train_accuracies: List of train accuracies recorded after each epoch.\n",
        "      - val_losses: List of validation losses recorded after each epoch.\n",
        "      - val_accuracies: List of validation accuracies recorded after each epoch.\n",
        "      - model: the trained model with weights corresponding to the best validation accuracy\n",
        "\n",
        "    \"\"\"\n",
        "\n",
        "    since = time.time()\n",
        "    best_model_wts = copy.deepcopy(model.state_dict())\n",
        "    best_val_accuracy = 0.0\n",
        "\n",
        "    # per epoch stats\n",
        "    train_losses = []\n",
        "    train_accuracies = []\n",
        "    val_losses = []\n",
        "    val_accuracies = []\n",
        "\n",
        "    for epoch in range(start_epoch, start_epoch + num_epochs):\n",
        "        print(f'Epoch {epoch}/{start_epoch + num_epochs - 1}')\n",
        "        print('-' * 10)\n",
        "\n",
        "        running_loss = 0.0\n",
        "        running_corrects = 0\n",
        "\n",
        "        model.train()\n",
        "\n",
        "        for X_batch, y_batch in train_dataloader:\n",
        "            X_batch = X_batch.to(device)\n",
        "            y_batch = y_batch.to(device)\n",
        "\n",
        "            # zero the parameter gradients\n",
        "            optimizer.zero_grad()\n",
        "\n",
        "            # forward pass + compute loss\n",
        "            outputs_batch = model(X_batch)\n",
        "            _, preds_batch = torch.max(outputs_batch, dim=1)\n",
        "            loss = criterion(outputs_batch, y_batch)\n",
        "\n",
        "            # backprop + parameter update\n",
        "            loss.backward()\n",
        "            optimizer.step()\n",
        "\n",
        "            # stats\n",
        "            batch_size = X_batch.shape[0]\n",
        "            running_loss += loss.item() * batch_size\n",
        "            running_corrects += torch.sum(preds_batch == y_batch.detach())\n",
        "\n",
        "        if scheduler is not None:\n",
        "            scheduler.step()\n",
        "        \n",
        "        train_loss = running_loss / len(train_dataset)\n",
        "        train_accuracy = running_corrects.double() / len(train_dataset)\n",
        "        \n",
        "        train_losses.append(train_loss)\n",
        "        train_accuracies.append(train_accuracy.item())\n",
        "\n",
        "        val_loss, val_accuracy = validate(model, criterion)\n",
        "        val_losses.append(val_loss)\n",
        "        val_accuracies.append(val_accuracy.item())\n",
        "\n",
        "        print(f'Train Loss: {train_loss:.4f}, Train Accuracy: {train_accuracy:.4f}')\n",
        "        print(f'Validation Loss: {val_loss:.4f}, Validation Accuracy: {val_accuracy:.4f}')\n",
        "\n",
        "        if val_accuracy > best_val_accuracy:\n",
        "            best_val_accuracy = val_accuracy\n",
        "            best_model_wts = copy.deepcopy(model.state_dict())\n",
        "\n",
        "        print()\n",
        "\n",
        "    time_elapsed = time.time() - since\n",
        "    print(f'Training complete in {time_elapsed // 60:.0f}m {time_elapsed % 60:.0f}s')\n",
        "    print(f'Best validation Accuracy: {best_val_accuracy:.4f}')\n",
        "\n",
        "    # load best model weights\n",
        "    model.load_state_dict(best_model_wts)\n",
        "\n",
        "    return train_losses, train_accuracies, val_losses, val_accuracies, model "
      ],
      "metadata": {
        "id": "sRnG-bzaNXhy"
      },
      "execution_count": 27,
      "outputs": []
    },
    {
      "cell_type": "code",
      "source": [
        "# loss function and optimizer\n",
        "\n",
        "criterion = nn.CrossEntropyLoss()\n",
        "optimizer = torch.optim.Adam(vgg16_model.parameters(), lr = 0.005)\n",
        "initial_epochs = 6"
      ],
      "metadata": {
        "id": "q6mC67TB0niG"
      },
      "execution_count": 28,
      "outputs": []
    },
    {
      "cell_type": "code",
      "source": [
        "# training only the changed layer (the last layer)\n",
        "\n",
        "exp_lr_scheduler = torch.optim.lr_scheduler.StepLR(optimizer, step_size=1, gamma=0.8)\n",
        "train_losses, train_accuracies, val_losses, val_accuracies, vgg16_model = train(vgg16_model, criterion, optimizer, exp_lr_scheduler, num_epochs=initial_epochs)"
      ],
      "metadata": {
        "colab": {
          "base_uri": "https://localhost:8080/"
        },
        "id": "VGtV-Df_V585",
        "outputId": "f5188ced-2b4d-48b2-bbc4-034d9b59779b"
      },
      "execution_count": 29,
      "outputs": [
        {
          "output_type": "stream",
          "name": "stdout",
          "text": [
            "Epoch 0/5\n",
            "----------\n",
            "Train Loss: 1.1470, Train Accuracy: 0.7691\n",
            "Validation Loss: 0.5194, Validation Accuracy: 0.8762\n",
            "\n",
            "Epoch 1/5\n",
            "----------\n",
            "Train Loss: 0.2965, Train Accuracy: 0.9271\n",
            "Validation Loss: 0.4995, Validation Accuracy: 0.8970\n",
            "\n",
            "Epoch 2/5\n",
            "----------\n",
            "Train Loss: 0.2157, Train Accuracy: 0.9416\n",
            "Validation Loss: 0.4628, Validation Accuracy: 0.9093\n",
            "\n",
            "Epoch 3/5\n",
            "----------\n",
            "Train Loss: 0.1187, Train Accuracy: 0.9649\n",
            "Validation Loss: 0.4376, Validation Accuracy: 0.9107\n",
            "\n",
            "Epoch 4/5\n",
            "----------\n",
            "Train Loss: 0.0901, Train Accuracy: 0.9714\n",
            "Validation Loss: 0.4086, Validation Accuracy: 0.9107\n",
            "\n",
            "Epoch 5/5\n",
            "----------\n",
            "Train Loss: 0.0705, Train Accuracy: 0.9780\n",
            "Validation Loss: 0.4013, Validation Accuracy: 0.9150\n",
            "\n",
            "Training complete in 3m 37s\n",
            "Best validation Accuracy: 0.9150\n"
          ]
        }
      ]
    },
    {
      "cell_type": "code",
      "source": [
        "# Learning curves\n",
        "plt.figure(figsize=(10, 10))\n",
        "plt.subplot(2, 1, 1)\n",
        "plt.plot(train_accuracies, label='Training Accuracy')\n",
        "plt.plot(val_accuracies, label='Validation Accuracy')\n",
        "plt.ylim([min(plt.ylim()),1])\n",
        "plt.legend(loc='lower right')\n",
        "plt.ylabel('Accuracy')\n",
        "plt.title('Training and Validation Accuracy')\n",
        "\n",
        "plt.subplot(2, 1, 2)\n",
        "plt.plot(train_losses, label='Training Loss')\n",
        "plt.plot(val_losses, label='Validation Loss')\n",
        "plt.legend(loc='upper right')\n",
        "plt.ylabel('Cross Entropy')\n",
        "plt.title('Training and Validation Loss')\n",
        "plt.xlabel('Epoch')\n",
        "plt.show()"
      ],
      "metadata": {
        "colab": {
          "base_uri": "https://localhost:8080/",
          "height": 621
        },
        "id": "dTTWcVrqVMTm",
        "outputId": "5a9878a9-d334-49e1-c4b2-46379f1bde9b"
      },
      "execution_count": 30,
      "outputs": [
        {
          "output_type": "display_data",
          "data": {
            "text/plain": [
              "<Figure size 720x720 with 2 Axes>"
            ],
            "image/png": "[encoded data removed]"
          },
          "metadata": {
            "needs_background": "light"
          }
        }
      ]
    },
    {
      "cell_type": "code",
      "source": [
        "# unfreeze last few layers of the model and finetune at a very low learning rate to slightly improve performance"
      ],
      "metadata": {
        "id": "NJGPEjFghpV5"
      },
      "execution_count": 31,
      "outputs": []
    },
    {
      "cell_type": "code",
      "source": [
        "# check the model layers\n",
        "vgg16_model"
      ],
      "metadata": {
        "colab": {
          "base_uri": "https://localhost:8080/"
        },
        "id": "Ta5UAHYGjzrY",
        "outputId": "7756682d-ada8-4e0c-d7a0-a7801b5f6f19"
      },
      "execution_count": 32,
      "outputs": [
        {
          "output_type": "execute_result",
          "data": {
            "text/plain": [
              "VGG(\n",
              "  (features): Sequential(\n",
              "    (0): Conv2d(3, 64, kernel_size=(3, 3), stride=(1, 1), padding=(1, 1))\n",
              "    (1): ReLU(inplace=True)\n",
              "    (2): Conv2d(64, 64, kernel_size=(3, 3), stride=(1, 1), padding=(1, 1))\n",
              "    (3): ReLU(inplace=True)\n",
              "    (4): MaxPool2d(kernel_size=2, stride=2, padding=0, dilation=1, ceil_mode=False)\n",
              "    (5): Conv2d(64, 128, kernel_size=(3, 3), stride=(1, 1), padding=(1, 1))\n",
              "    (6): ReLU(inplace=True)\n",
              "    (7): Conv2d(128, 128, kernel_size=(3, 3), stride=(1, 1), padding=(1, 1))\n",
              "    (8): ReLU(inplace=True)\n",
              "    (9): MaxPool2d(kernel_size=2, stride=2, padding=0, dilation=1, ceil_mode=False)\n",
              "    (10): Conv2d(128, 256, kernel_size=(3, 3), stride=(1, 1), padding=(1, 1))\n",
              "    (11): ReLU(inplace=True)\n",
              "    (12): Conv2d(256, 256, kernel_size=(3, 3), stride=(1, 1), padding=(1, 1))\n",
              "    (13): ReLU(inplace=True)\n",
              "    (14): Conv2d(256, 256, kernel_size=(3, 3), stride=(1, 1), padding=(1, 1))\n",
              "    (15): ReLU(inplace=True)\n",
              "    (16): MaxPool2d(kernel_size=2, stride=2, padding=0, dilation=1, ceil_mode=False)\n",
              "    (17): Conv2d(256, 512, kernel_size=(3, 3), stride=(1, 1), padding=(1, 1))\n",
              "    (18): ReLU(inplace=True)\n",
              "    (19): Conv2d(512, 512, kernel_size=(3, 3), stride=(1, 1), padding=(1, 1))\n",
              "    (20): ReLU(inplace=True)\n",
              "    (21): Conv2d(512, 512, kernel_size=(3, 3), stride=(1, 1), padding=(1, 1))\n",
              "    (22): ReLU(inplace=True)\n",
              "    (23): MaxPool2d(kernel_size=2, stride=2, padding=0, dilation=1, ceil_mode=False)\n",
              "    (24): Conv2d(512, 512, kernel_size=(3, 3), stride=(1, 1), padding=(1, 1))\n",
              "    (25): ReLU(inplace=True)\n",
              "    (26): Conv2d(512, 512, kernel_size=(3, 3), stride=(1, 1), padding=(1, 1))\n",
              "    (27): ReLU(inplace=True)\n",
              "    (28): Conv2d(512, 512, kernel_size=(3, 3), stride=(1, 1), padding=(1, 1))\n",
              "    (29): ReLU(inplace=True)\n",
              "    (30): MaxPool2d(kernel_size=2, stride=2, padding=0, dilation=1, ceil_mode=False)\n",
              "  )\n",
              "  (avgpool): AdaptiveAvgPool2d(output_size=(7, 7))\n",
              "  (classifier): Sequential(\n",
              "    (0): Linear(in_features=25088, out_features=4096, bias=True)\n",
              "    (1): ReLU(inplace=True)\n",
              "    (2): Dropout(p=0.5, inplace=False)\n",
              "    (3): Linear(in_features=4096, out_features=4096, bias=True)\n",
              "    (4): ReLU(inplace=True)\n",
              "    (5): Dropout(p=0.5, inplace=False)\n",
              "    (6): Linear(in_features=4096, out_features=101, bias=True)\n",
              "  )\n",
              ")"
            ]
          },
          "metadata": {},
          "execution_count": 32
        }
      ]
    },
    {
      "cell_type": "code",
      "source": [
        "# unfreeze all the FC layers\n",
        "for param in vgg16_model.classifier.parameters():\n",
        "    param.requires_grad = True"
      ],
      "metadata": {
        "id": "ayoiUeQWj4QI"
      },
      "execution_count": 33,
      "outputs": []
    },
    {
      "cell_type": "code",
      "source": [
        "# unfreeze the last conv layer - it is at position 28 in vgg19_model.features\n",
        "for param in vgg16_model.features[28].parameters():\n",
        "    param.requires_grad = True"
      ],
      "metadata": {
        "id": "_IQokEnkkJng"
      },
      "execution_count": 34,
      "outputs": []
    },
    {
      "cell_type": "code",
      "source": [
        "# printing just the trainable parameters of the model\n",
        "for name, param in vgg16_model.named_parameters():\n",
        "    if param.requires_grad == True:\n",
        "        print(name)"
      ],
      "metadata": {
        "colab": {
          "base_uri": "https://localhost:8080/"
        },
        "id": "zyoByTfUkZB1",
        "outputId": "6f673791-a28b-4320-b78d-b594c354428a"
      },
      "execution_count": 35,
      "outputs": [
        {
          "output_type": "stream",
          "name": "stdout",
          "text": [
            "features.28.weight\n",
            "features.28.bias\n",
            "classifier.0.weight\n",
            "classifier.0.bias\n",
            "classifier.3.weight\n",
            "classifier.3.bias\n",
            "classifier.6.weight\n",
            "classifier.6.bias\n"
          ]
        }
      ]
    },
    {
      "cell_type": "code",
      "source": [
        "# finetuning - training the unfreezed layers at a very low learning rate\n",
        "finetune_epochs = 4\n",
        "optimizer = torch.optim.Adam(vgg16_model.parameters(), lr = 0.00005)\n",
        "train_losses_ft, train_accuracies_ft, val_losses_ft, val_accuracies_ft, vgg16_model = train(vgg16_model, criterion, optimizer, num_epochs=finetune_epochs, start_epoch=initial_epochs)"
      ],
      "metadata": {
        "colab": {
          "base_uri": "https://localhost:8080/"
        },
        "id": "hS7KDkTakj4V",
        "outputId": "884ac79c-70c5-49d9-f586-9652c842c941"
      },
      "execution_count": 36,
      "outputs": [
        {
          "output_type": "stream",
          "name": "stdout",
          "text": [
            "Epoch 6/9\n",
            "----------\n",
            "Train Loss: 0.0719, Train Accuracy: 0.9796\n",
            "Validation Loss: 0.3737, Validation Accuracy: 0.9266\n",
            "\n",
            "Epoch 7/9\n",
            "----------\n",
            "Train Loss: 0.0473, Train Accuracy: 0.9865\n",
            "Validation Loss: 0.3777, Validation Accuracy: 0.9222\n",
            "\n",
            "Epoch 8/9\n",
            "----------\n",
            "Train Loss: 0.0258, Train Accuracy: 0.9923\n",
            "Validation Loss: 0.3688, Validation Accuracy: 0.9230\n",
            "\n",
            "Epoch 9/9\n",
            "----------\n",
            "Train Loss: 0.0255, Train Accuracy: 0.9924\n",
            "Validation Loss: 0.4149, Validation Accuracy: 0.9086\n",
            "\n",
            "Training complete in 2m 40s\n",
            "Best validation Accuracy: 0.9266\n"
          ]
        }
      ]
    },
    {
      "cell_type": "code",
      "source": [
        "plt.figure(figsize=(10, 10))\n",
        "plt.subplot(2, 1, 1)\n",
        "plt.plot(train_accuracies + train_accuracies_ft, label='Training Accuracy')\n",
        "plt.plot(val_accuracies + val_accuracies_ft, label='Validation Accuracy')\n",
        "plt.plot([initial_epochs-1,initial_epochs-1],\n",
        "          plt.ylim(), label='Start Fine Tuning')\n",
        "plt.legend(loc='lower right')\n",
        "plt.title('Training and Validation Accuracy')\n",
        "\n",
        "plt.subplot(2, 1, 2)\n",
        "plt.plot(train_losses+train_losses_ft, label='Training Loss')\n",
        "plt.plot(val_losses+val_losses_ft, label='Validation Loss')\n",
        "plt.plot([initial_epochs-1,initial_epochs-1],\n",
        "         plt.ylim(), label='Start Fine Tuning')\n",
        "plt.legend(loc='upper right')\n",
        "plt.title('Training and Validation Loss')\n",
        "plt.xlabel('epoch')\n",
        "plt.show()"
      ],
      "metadata": {
        "colab": {
          "base_uri": "https://localhost:8080/",
          "height": 621
        },
        "id": "wsDpQDb2l4Jm",
        "outputId": "a390cfb6-2749-49cf-af19-483944d06e62"
      },
      "execution_count": 37,
      "outputs": [
        {
          "output_type": "display_data",
          "data": {
            "text/plain": [
              "<Figure size 720x720 with 2 Axes>"
            ],
            "image/png": "[encoded data removed]"
          },
          "metadata": {
            "needs_background": "light"
          }
        }
      ]
    },
    {
      "cell_type": "code",
      "source": [
        "# From the graphs above and the training logs we can see slight improvement in the best validation accuracy (from 91.79 to 92.87 %) after finetuning"
      ],
      "metadata": {
        "id": "_BEJ3YYMnqgj"
      },
      "execution_count": 38,
      "outputs": []
    },
    {
      "cell_type": "code",
      "source": [
        "## Q1 part2 -> same model as above but with random initialization"
      ],
      "metadata": {
        "id": "YAPsbGkdtAqK"
      },
      "execution_count": 39,
      "outputs": []
    },
    {
      "cell_type": "code",
      "source": [
        "# loading the vgg16 model without pretrained weights (i.e. randomly initialised weights)\n",
        "vgg16_model_rnd = models.vgg16(weights=None)"
      ],
      "metadata": {
        "id": "sZXEuNtJtjtO"
      },
      "execution_count": 40,
      "outputs": []
    },
    {
      "cell_type": "code",
      "source": [
        "# changing the classification head of the model from 1000 dim to 101 dim\n",
        "vgg16_model_rnd.classifier[6] = nn.Linear(in_features=4096, out_features=101)"
      ],
      "metadata": {
        "id": "pJDLjzzXt7Qr"
      },
      "execution_count": 41,
      "outputs": []
    },
    {
      "cell_type": "code",
      "source": [
        "# printing just the trainable parameters of the model - all the layers are trainable as instructed in part2 of Q1\n",
        "for name, param in vgg16_model_rnd.named_parameters():\n",
        "    if param.requires_grad == True:\n",
        "        print(name)"
      ],
      "metadata": {
        "colab": {
          "base_uri": "https://localhost:8080/"
        },
        "id": "lb5lz8uBuVpV",
        "outputId": "2620882a-0949-4d18-e2e9-8fc13fba6e1b"
      },
      "execution_count": 42,
      "outputs": [
        {
          "output_type": "stream",
          "name": "stdout",
          "text": [
            "features.0.weight\n",
            "features.0.bias\n",
            "features.2.weight\n",
            "features.2.bias\n",
            "features.5.weight\n",
            "features.5.bias\n",
            "features.7.weight\n",
            "features.7.bias\n",
            "features.10.weight\n",
            "features.10.bias\n",
            "features.12.weight\n",
            "features.12.bias\n",
            "features.14.weight\n",
            "features.14.bias\n",
            "features.17.weight\n",
            "features.17.bias\n",
            "features.19.weight\n",
            "features.19.bias\n",
            "features.21.weight\n",
            "features.21.bias\n",
            "features.24.weight\n",
            "features.24.bias\n",
            "features.26.weight\n",
            "features.26.bias\n",
            "features.28.weight\n",
            "features.28.bias\n",
            "classifier.0.weight\n",
            "classifier.0.bias\n",
            "classifier.3.weight\n",
            "classifier.3.bias\n",
            "classifier.6.weight\n",
            "classifier.6.bias\n"
          ]
        }
      ]
    },
    {
      "cell_type": "code",
      "source": [
        "# move the model to GPU\n",
        "vgg16_model_rnd.to(device)"
      ],
      "metadata": {
        "colab": {
          "base_uri": "https://localhost:8080/"
        },
        "id": "DGQXh9BPuYnk",
        "outputId": "d5274697-9af0-4874-d749-7eaedb870bf8"
      },
      "execution_count": 43,
      "outputs": [
        {
          "output_type": "execute_result",
          "data": {
            "text/plain": [
              "VGG(\n",
              "  (features): Sequential(\n",
              "    (0): Conv2d(3, 64, kernel_size=(3, 3), stride=(1, 1), padding=(1, 1))\n",
              "    (1): ReLU(inplace=True)\n",
              "    (2): Conv2d(64, 64, kernel_size=(3, 3), stride=(1, 1), padding=(1, 1))\n",
              "    (3): ReLU(inplace=True)\n",
              "    (4): MaxPool2d(kernel_size=2, stride=2, padding=0, dilation=1, ceil_mode=False)\n",
              "    (5): Conv2d(64, 128, kernel_size=(3, 3), stride=(1, 1), padding=(1, 1))\n",
              "    (6): ReLU(inplace=True)\n",
              "    (7): Conv2d(128, 128, kernel_size=(3, 3), stride=(1, 1), padding=(1, 1))\n",
              "    (8): ReLU(inplace=True)\n",
              "    (9): MaxPool2d(kernel_size=2, stride=2, padding=0, dilation=1, ceil_mode=False)\n",
              "    (10): Conv2d(128, 256, kernel_size=(3, 3), stride=(1, 1), padding=(1, 1))\n",
              "    (11): ReLU(inplace=True)\n",
              "    (12): Conv2d(256, 256, kernel_size=(3, 3), stride=(1, 1), padding=(1, 1))\n",
              "    (13): ReLU(inplace=True)\n",
              "    (14): Conv2d(256, 256, kernel_size=(3, 3), stride=(1, 1), padding=(1, 1))\n",
              "    (15): ReLU(inplace=True)\n",
              "    (16): MaxPool2d(kernel_size=2, stride=2, padding=0, dilation=1, ceil_mode=False)\n",
              "    (17): Conv2d(256, 512, kernel_size=(3, 3), stride=(1, 1), padding=(1, 1))\n",
              "    (18): ReLU(inplace=True)\n",
              "    (19): Conv2d(512, 512, kernel_size=(3, 3), stride=(1, 1), padding=(1, 1))\n",
              "    (20): ReLU(inplace=True)\n",
              "    (21): Conv2d(512, 512, kernel_size=(3, 3), stride=(1, 1), padding=(1, 1))\n",
              "    (22): ReLU(inplace=True)\n",
              "    (23): MaxPool2d(kernel_size=2, stride=2, padding=0, dilation=1, ceil_mode=False)\n",
              "    (24): Conv2d(512, 512, kernel_size=(3, 3), stride=(1, 1), padding=(1, 1))\n",
              "    (25): ReLU(inplace=True)\n",
              "    (26): Conv2d(512, 512, kernel_size=(3, 3), stride=(1, 1), padding=(1, 1))\n",
              "    (27): ReLU(inplace=True)\n",
              "    (28): Conv2d(512, 512, kernel_size=(3, 3), stride=(1, 1), padding=(1, 1))\n",
              "    (29): ReLU(inplace=True)\n",
              "    (30): MaxPool2d(kernel_size=2, stride=2, padding=0, dilation=1, ceil_mode=False)\n",
              "  )\n",
              "  (avgpool): AdaptiveAvgPool2d(output_size=(7, 7))\n",
              "  (classifier): Sequential(\n",
              "    (0): Linear(in_features=25088, out_features=4096, bias=True)\n",
              "    (1): ReLU(inplace=True)\n",
              "    (2): Dropout(p=0.5, inplace=False)\n",
              "    (3): Linear(in_features=4096, out_features=4096, bias=True)\n",
              "    (4): ReLU(inplace=True)\n",
              "    (5): Dropout(p=0.5, inplace=False)\n",
              "    (6): Linear(in_features=4096, out_features=101, bias=True)\n",
              "  )\n",
              ")"
            ]
          },
          "metadata": {},
          "execution_count": 43
        }
      ]
    },
    {
      "cell_type": "code",
      "source": [
        "# loss function and optimizer\n",
        "\n",
        "criterion = nn.CrossEntropyLoss()\n",
        "optimizer = torch.optim.Adam(vgg16_model_rnd.parameters(), lr = 0.005)"
      ],
      "metadata": {
        "id": "iBszA1UMuvzW"
      },
      "execution_count": 44,
      "outputs": []
    },
    {
      "cell_type": "code",
      "source": [
        "# training the randomly initialised model under similar settings\n",
        "\n",
        "exp_lr_scheduler = torch.optim.lr_scheduler.StepLR(optimizer, step_size=1, gamma=0.8)\n",
        "train_losses_rnd, train_accuracies_rnd, val_losses_rnd, val_accuracies_rnd, vgg16_model_rnd = train(vgg16_model_rnd, criterion, optimizer, exp_lr_scheduler, num_epochs=5)"
      ],
      "metadata": {
        "colab": {
          "base_uri": "https://localhost:8080/"
        },
        "id": "lOzkTOH7vMjt",
        "outputId": "d600749a-7bc3-49ce-a41d-d1f9d7af7f54"
      },
      "execution_count": 45,
      "outputs": [
        {
          "output_type": "stream",
          "name": "stdout",
          "text": [
            "Epoch 0/4\n",
            "----------\n",
            "Train Loss: 22715212.7960, Train Accuracy: 0.0254\n",
            "Validation Loss: 4.5751, Validation Accuracy: 0.0886\n",
            "\n",
            "Epoch 1/4\n",
            "----------\n",
            "Train Loss: 4.8435, Train Accuracy: 0.0911\n",
            "Validation Loss: 4.4965, Validation Accuracy: 0.0958\n",
            "\n",
            "Epoch 2/4\n",
            "----------\n",
            "Train Loss: 6.7834, Train Accuracy: 0.0951\n",
            "Validation Loss: 4.4372, Validation Accuracy: 0.0958\n",
            "\n",
            "Epoch 3/4\n",
            "----------\n",
            "Train Loss: 4.5200, Train Accuracy: 0.0955\n",
            "Validation Loss: 4.3927, Validation Accuracy: 0.0958\n",
            "\n",
            "Epoch 4/4\n",
            "----------\n",
            "Train Loss: 4.4489, Train Accuracy: 0.0958\n",
            "Validation Loss: 4.3600, Validation Accuracy: 0.0958\n",
            "\n",
            "Training complete in 6m 43s\n",
            "Best validation Accuracy: 0.0958\n"
          ]
        }
      ]
    },
    {
      "cell_type": "code",
      "source": [
        "# Learning curves\n",
        "plt.figure(figsize=(8, 8))\n",
        "plt.subplot(2, 1, 1)\n",
        "plt.plot(train_accuracies_rnd, label='Training Accuracy')\n",
        "plt.plot(val_accuracies_rnd, label='Validation Accuracy')\n",
        "plt.legend(loc='upper right')\n",
        "plt.ylabel('Accuracy')\n",
        "plt.ylim([min(plt.ylim()),1])\n",
        "plt.title('Training and Validation Accuracy')\n",
        "\n",
        "plt.subplot(2, 1, 2)\n",
        "plt.plot(train_losses_rnd, label='Training Loss')\n",
        "plt.plot(val_losses_rnd, label='Validation Loss')\n",
        "plt.legend(loc='upper right')\n",
        "plt.ylabel('Loss')\n",
        "plt.title('Training and Validation Loss')\n",
        "plt.xlabel('Epoch')\n",
        "plt.show()"
      ],
      "metadata": {
        "colab": {
          "base_uri": "https://localhost:8080/",
          "height": 513
        },
        "id": "va00PIefvTTb",
        "outputId": "ecdbd57d-c604-436a-caa9-1662b4a8dcd0"
      },
      "execution_count": 46,
      "outputs": [
        {
          "output_type": "display_data",
          "data": {
            "text/plain": [
              "<Figure size 576x576 with 2 Axes>"
            ],
            "image/png": "[encoded data removed]"
          },
          "metadata": {
            "needs_background": "light"
          }
        }
      ]
    },
    {
      "cell_type": "code",
      "source": [
        "# reporting the performance of both the models (one using transfer learning and other without it) on the test set"
      ],
      "metadata": {
        "id": "rTro8T05Om5M"
      },
      "execution_count": 47,
      "outputs": []
    },
    {
      "cell_type": "code",
      "source": [
        "def compute_test_acc(model):\n",
        "    \"\"\"\n",
        "      Computes the accuracy of the model on the test set.\n",
        "\n",
        "      Inputs:\n",
        "      - model: the model to evaluate\n",
        "      \n",
        "      Returns:\n",
        "      - test_acc: a fraction representing the test set accuracy\n",
        "    \"\"\"\n",
        "    running_corrects = 0\n",
        "    model.eval()\n",
        "\n",
        "    for X_batch, y_batch in test_dataloader:\n",
        "        X_batch = X_batch.to(device)\n",
        "        y_batch = y_batch.to(device)\n",
        "\n",
        "        # forward pass\n",
        "        outputs_batch = model(X_batch)\n",
        "        _, preds_batch = torch.max(outputs_batch, dim=1)\n",
        "\n",
        "        # stats\n",
        "        running_corrects += torch.sum(preds_batch == y_batch.detach())\n",
        "\n",
        "    test_acc = running_corrects.double() / len(test_dataset)\n",
        "\n",
        "    return test_acc"
      ],
      "metadata": {
        "id": "5EiXyMM3O-Mz"
      },
      "execution_count": 48,
      "outputs": []
    },
    {
      "cell_type": "code",
      "source": [
        "test_acc_transferLearning = compute_test_acc(vgg16_model)\n",
        "test_acc_rnd = compute_test_acc(vgg16_model_rnd)\n",
        "\n",
        "print(f\"Test set accuracy of the model trained using transfer learning = {(test_acc_transferLearning * 100):.2f}%\")\n",
        "print(f\"Test set accuracy of the model trained using random weight initialization = {(test_acc_rnd * 100):.2f}%\")"
      ],
      "metadata": {
        "colab": {
          "base_uri": "https://localhost:8080/"
        },
        "id": "JOAEtc7TO9Et",
        "outputId": "c145bb41-ddaa-4839-8721-4071c4deb256"
      },
      "execution_count": 49,
      "outputs": [
        {
          "output_type": "stream",
          "name": "stdout",
          "text": [
            "Test set accuracy of the model trained using transfer learning = 91.99%\n",
            "Test set accuracy of the model trained using random weight initialization = 7.83%\n"
          ]
        }
      ]
    },
    {
      "cell_type": "code",
      "source": [
        "# Thus we see how worse the model with randomly initialised weights perform"
      ],
      "metadata": {
        "id": "jIsQ6kB-Ohg8"
      },
      "execution_count": 50,
      "outputs": []
    },
    {
      "cell_type": "code",
      "source": [
        "######### end of Q1 #############"
      ],
      "metadata": {
        "id": "pvsuuZCsztJI"
      },
      "execution_count": 51,
      "outputs": []
    },
    {
      "cell_type": "code",
      "source": [
        "#### Q2 begins ####"
      ],
      "metadata": {
        "id": "zyRJN0tXHQGz"
      },
      "execution_count": 52,
      "outputs": []
    },
    {
      "cell_type": "code",
      "source": [
        "def create_dataset(num_samples, min_seq_len=2, max_seq_len=10):\n",
        "    \"\"\"\n",
        "        Creates a dataset for the task of \"the adding problem\".\n",
        "\n",
        "        Inputs:\n",
        "        - num_samples: Number of input sequences in the dataset\n",
        "        - min_seq_len: Lower bound for the sequence length\n",
        "        - max_seq_len: Upper bound for the sequence length\n",
        "\n",
        "        Returns:\n",
        "        - X: python list where each element is an input sequence (a torch tensor of shape (seq_len, 2))\n",
        "        - Y: torch tensor of shape (num_samples, 1) for labels - sum of seq elems whose second dimensions are marked by 1\n",
        "\n",
        "    \"\"\"\n",
        "    \n",
        "    X = []\n",
        "    Y = torch.zeros(num_samples, 1)\n",
        "\n",
        "    for i in tqdm(range(num_samples)):\n",
        "        seq_len = torch.randint(min_seq_len, max_seq_len+1, (1, )).item()\n",
        "        X_num = torch.FloatTensor(seq_len, 1).uniform_(0.0, 1.0) # generates numbers uniformly at random between 0 and 1 for the sequence\n",
        "        X_mask = torch.zeros(seq_len, 1)\n",
        "\n",
        "        one_positions = np.random.choice(seq_len, size=2, replace=False) # randomly choose two positions of the sequence\n",
        "        X_mask[one_positions, :] = 1\n",
        "        Y[i, 0] = torch.sum(X_num[one_positions]) # defining the label (i.e. the target sum)\n",
        "\n",
        "        Xi = torch.cat((X_num, X_mask), dim=-1) # shape is (seq_len, 2)\n",
        "        X.append(Xi)\n",
        "\n",
        "    return X, Y"
      ],
      "metadata": {
        "id": "JciROMJxHRlQ"
      },
      "execution_count": 53,
      "outputs": []
    },
    {
      "cell_type": "code",
      "source": [
        "# creating a big dataset of size 10000 and then splitting it into train, val and test sets"
      ],
      "metadata": {
        "id": "Kk2f4AJASWNC"
      },
      "execution_count": 54,
      "outputs": []
    },
    {
      "cell_type": "code",
      "source": [
        "X_full, y_full = create_dataset(10000)"
      ],
      "metadata": {
        "colab": {
          "base_uri": "https://localhost:8080/"
        },
        "id": "7DlNmbmkHmwE",
        "outputId": "6b8918b4-9a7a-4245-c11e-8148017f9c83"
      },
      "execution_count": 55,
      "outputs": [
        {
          "output_type": "stream",
          "name": "stderr",
          "text": [
            "100%|██████████| 10000/10000 [00:01<00:00, 9291.28it/s]\n"
          ]
        }
      ]
    },
    {
      "cell_type": "code",
      "source": [
        "X_trainval, X_test, y_trainval, y_test = train_test_split(X_full, y_full, test_size=0.2, random_state=42)\n",
        "len(X_trainval), y_trainval.shape, len(X_test), y_test.shape"
      ],
      "metadata": {
        "colab": {
          "base_uri": "https://localhost:8080/"
        },
        "id": "Fhsfuy8_Ho7e",
        "outputId": "b5c68dde-1a6a-4741-9942-b1e10df566f0"
      },
      "execution_count": 56,
      "outputs": [
        {
          "output_type": "execute_result",
          "data": {
            "text/plain": [
              "(8000, torch.Size([8000, 1]), 2000, torch.Size([2000, 1]))"
            ]
          },
          "metadata": {},
          "execution_count": 56
        }
      ]
    },
    {
      "cell_type": "code",
      "source": [
        "X_train, X_val, y_train, y_val = train_test_split(X_trainval, y_trainval, test_size=0.2, random_state=42)\n",
        "len(X_train), y_train.shape, len(X_val), y_val.shape"
      ],
      "metadata": {
        "colab": {
          "base_uri": "https://localhost:8080/"
        },
        "id": "hbikS8fOHqUK",
        "outputId": "60c73193-4d62-4fa5-d7fa-767b4bc1ded9"
      },
      "execution_count": 57,
      "outputs": [
        {
          "output_type": "execute_result",
          "data": {
            "text/plain": [
              "(6400, torch.Size([6400, 1]), 1600, torch.Size([1600, 1]))"
            ]
          },
          "metadata": {},
          "execution_count": 57
        }
      ]
    },
    {
      "cell_type": "code",
      "source": [
        "class Baseline(nn.Module):\n",
        "    \"\"\" Baseline model that always predicts a sum of 1 as specified in the question \"\"\"\n",
        "    \n",
        "    def __init__(self):\n",
        "        super(Baseline, self).__init__()\n",
        "\n",
        "    def forward(self, input):\n",
        "        batch_size = input.shape[0]\n",
        "        output = torch.ones(batch_size, 1, dtype=torch.float32)\n",
        "        return output"
      ],
      "metadata": {
        "id": "_O4ZuEs8Hrcd"
      },
      "execution_count": 58,
      "outputs": []
    },
    {
      "cell_type": "code",
      "source": [
        "class Elman(nn.Module):\n",
        "    \"\"\" Elman network - a very basic version of the RNN \"\"\"\n",
        "\n",
        "    def __init__(self, dim_input, dim_hidden, dim_output):\n",
        "        super(Elman, self).__init__()\n",
        "        self.fc_x2h = nn.Linear(dim_input, dim_hidden)\n",
        "        self.fc_h2h = nn.Linear(dim_hidden, dim_hidden, bias = False)\n",
        "        self.fc_h2y = nn.Linear(dim_hidden, dim_output)\n",
        "\n",
        "    def forward(self, input):\n",
        "        batch_size = input.shape[0]\n",
        "        seq_len = input.shape[1]\n",
        "        dim_hidden = self.fc_h2h.in_features\n",
        "\n",
        "        h = input.new_zeros(batch_size, dim_hidden) # initialize the hidden state with zeros\n",
        "        \n",
        "        for t in range(seq_len):\n",
        "            h = torch.tanh(self.fc_x2h(input[:, t]) + self.fc_h2h(h)) # updating the hidden state as per the Elman equation\n",
        "\n",
        "        return self.fc_h2y(h)"
      ],
      "metadata": {
        "id": "aI87ACxrHsiN"
      },
      "execution_count": 59,
      "outputs": []
    },
    {
      "cell_type": "code",
      "source": [
        "class LSTM(nn.Module):\n",
        "    \"\"\" Pytorch class for the LSTM network \"\"\"\n",
        "\n",
        "    def __init__(self, dim_input, dim_hidden, dim_output):\n",
        "        super().__init__()\n",
        "        self.fc_x2h = nn.Linear(dim_input, 4 * dim_hidden)\n",
        "        self.fc_h2h = nn.Linear(dim_hidden, 4 * dim_hidden, bias = False)\n",
        "        self.fc_h2y = nn.Linear(dim_hidden, dim_output)\n",
        "\n",
        "    def forward(self, input):\n",
        "        batch_size = input.shape[0]\n",
        "        seq_len = input.shape[1]\n",
        "        dim_hidden = self.fc_h2h.in_features\n",
        "        \n",
        "        # initialize the hidden state and cell state with zeros\n",
        "        h = input.new_zeros(batch_size, dim_hidden)\n",
        "        c = input.new_zeros(batch_size, dim_hidden)\n",
        "\n",
        "        for t in range(seq_len):\n",
        "            tmp = self.fc_x2h(input[:, t]) + self.fc_h2h(h) # shape of tmp is (batch_size, 4 * dim_hidden)\n",
        "\n",
        "            forget_gate = torch.sigmoid(tmp[:, 0 : dim_hidden]) # denoted by f_t in the slides dl4cv-10, pg 42\n",
        "            input_gate = torch.sigmoid(tmp[:, dim_hidden : 2 * dim_hidden]) # denoted by i_t in the slides dl4cv-10, pg 42\n",
        "            output_gate = torch.sigmoid(tmp[:, 2 * dim_hidden : 3 * dim_hidden]) # denoted by o_t in the slides dl4cv-10, pg 42\n",
        "\n",
        "            c_tilda = torch.tanh(tmp[:, 3 * dim_hidden : 4 * dim_hidden]) # denoted by g_t in the slides dl4cv-10, pg 42\n",
        "            c = forget_gate * c + input_gate * c_tilda # these are elementwise muls (hadamard products)\n",
        "            h = output_gate * torch.tanh(c)\n",
        "\n",
        "        return self.fc_h2y(h)"
      ],
      "metadata": {
        "id": "B3EKMRuVHuk9"
      },
      "execution_count": 60,
      "outputs": []
    },
    {
      "cell_type": "code",
      "source": [
        "class GRU(nn.Module):\n",
        "    \"\"\" Pytorch class for the GRU network \"\"\"\n",
        "\n",
        "    def __init__(self, dim_input, dim_hidden, dim_output):\n",
        "        super().__init__()\n",
        "        self.fc_x2h_gate = nn.Linear(dim_input, 2 * dim_hidden)\n",
        "        self.fc_h2h_gate = nn.Linear(dim_hidden, 2 * dim_hidden, bias = False)\n",
        "\n",
        "        self.fc_x2h = nn.Linear(dim_input, dim_hidden)\n",
        "        self.fc_h2h = nn.Linear(dim_hidden, dim_hidden, bias=False)\n",
        "\n",
        "        self.fc_h2y = nn.Linear(dim_hidden, dim_output)\n",
        "\n",
        "    def forward(self, input):\n",
        "        batch_size = input.shape[0]\n",
        "        seq_len = input.shape[1]\n",
        "        dim_hidden = self.fc_h2h.in_features\n",
        "\n",
        "        # initialize the hidden state with zeros\n",
        "        h = input.new_zeros(batch_size, dim_hidden)\n",
        "\n",
        "        for t in range(seq_len):\n",
        "            tmp = self.fc_x2h_gate(input[:, t]) + self.fc_h2h_gate(h)\n",
        "\n",
        "            reset_gate = torch.sigmoid(tmp[:, 0 : dim_hidden]) # denoted by r_t in the slides dl4cv-10, pg 49\n",
        "            forget_gate = torch.sigmoid(tmp[:, dim_hidden : 2 * dim_hidden]) # denoted by z_t in the slides dl4cv-10, pg 49\n",
        "\n",
        "            h_tilda = torch.tanh(self.fc_x2h(input[:, t]) + self.fc_h2h(reset_gate * h)) # denoted by h_t(bar) in the slides dl4cv-10, pg 49\n",
        "            h = forget_gate * h + (1 - forget_gate) * h_tilda\n",
        "\n",
        "        return self.fc_h2y(h)"
      ],
      "metadata": {
        "id": "Rcf2hOCvHvz8"
      },
      "execution_count": 61,
      "outputs": []
    },
    {
      "cell_type": "code",
      "source": [
        "x_dim = 2 \n",
        "h_dim = 8\n",
        "y_dim = 1\n",
        "\n",
        "# Initialising the different models and moving them to GPU\n",
        "baseline_model = Baseline().to(device)\n",
        "elman_model = Elman(dim_input=x_dim, dim_hidden=h_dim, dim_output=y_dim).to(device)\n",
        "lstm_model = LSTM(dim_input=x_dim, dim_hidden=h_dim, dim_output=y_dim).to(device)\n",
        "gru_model = GRU(dim_input=x_dim, dim_hidden=h_dim, dim_output=y_dim).to(device)"
      ],
      "metadata": {
        "id": "hOvG_Of6Hw8y"
      },
      "execution_count": 62,
      "outputs": []
    },
    {
      "cell_type": "code",
      "source": [
        "criterion = nn.MSELoss()\n",
        "num_epochs = 3\n",
        "\n",
        "# training all the networks under similar settings\n",
        "optimizer_elman = torch.optim.Adam(elman_model.parameters(), lr = 0.003)\n",
        "optimizer_lstm = torch.optim.Adam(lstm_model.parameters(), lr = 0.003)\n",
        "optimizer_gru = torch.optim.Adam(gru_model.parameters(), lr = 0.003)"
      ],
      "metadata": {
        "id": "wltEgWwiHx7y"
      },
      "execution_count": 63,
      "outputs": []
    },
    {
      "cell_type": "code",
      "source": [
        "@torch.no_grad()\n",
        "def compute_avg_validation_loss(model, criterion):\n",
        "    \"\"\"\n",
        "        Computes the avg loss over the validation set.\n",
        "\n",
        "        Inputs:\n",
        "        - model: the model to use\n",
        "        - criterion: the loss function to use\n",
        "\n",
        "        Returns:\n",
        "        - avg_val_loss: Average value of loss per sample in the validation set.\n",
        "    \"\"\"\n",
        "\n",
        "    model.eval()\n",
        "    \n",
        "    num_samples = len(X_val)\n",
        "    total_val_loss = 0.0\n",
        "\n",
        "    for i in range(num_samples):\n",
        "        Xi = copy.deepcopy(X_val[i])\n",
        "        Xi = Xi.unsqueeze_(0)\n",
        "        Xi = Xi.to(device)\n",
        "\n",
        "        yi = copy.deepcopy(y_val[i])\n",
        "        yi = yi.unsqueeze_(0)\n",
        "        yi = yi.to(device)\n",
        "\n",
        "        # forward pass + loss computation\n",
        "        output = model(Xi)\n",
        "        loss = criterion(output, yi)\n",
        "        total_val_loss += loss\n",
        "\n",
        "    avg_val_loss = total_val_loss / num_samples\n",
        "    return avg_val_loss"
      ],
      "metadata": {
        "id": "Oai8-ku2Hzft"
      },
      "execution_count": 64,
      "outputs": []
    },
    {
      "cell_type": "code",
      "source": [
        "def train(model, optimizer, criterion):\n",
        "    \"\"\"\n",
        "        Performs the model training over the training dataset using SGD and returns the model with minimum val loss. \n",
        "\n",
        "        Inputs:\n",
        "        - model: The model to train\n",
        "        - optimizer: The optimizer to use for model training\n",
        "        - criterion: the loss function to use\n",
        "\n",
        "        Returns:\n",
        "        - train_losses: List of avg train losses after periodic number of iterations of SGD\n",
        "        - val_losses: List of avg val losses after periodic number of iterations of SGD\n",
        "        - model: trained model\n",
        "\n",
        "    \"\"\"    \n",
        "    \n",
        "    since = time.time()\n",
        "    best_model_wts = copy.deepcopy(model.state_dict())\n",
        "    best_val_loss = np.inf\n",
        "\n",
        "    train_losses = []\n",
        "    val_losses = []\n",
        "\n",
        "    total_train_loss = 0.0\n",
        "    num_steps = 0\n",
        "\n",
        "    model.train()\n",
        "\n",
        "    for epoch in range(num_epochs):\n",
        "        num_samples = len(X_train)\n",
        "\n",
        "        for i in range(num_samples):\n",
        "            if num_steps != 0 and num_steps % 500 == 0:\n",
        "                avg_train_loss = total_train_loss / num_steps\n",
        "                avg_val_loss = compute_avg_validation_loss(model, criterion)\n",
        "\n",
        "                train_losses.append(avg_train_loss.item())\n",
        "                val_losses.append(avg_val_loss.item())\n",
        "\n",
        "                if avg_val_loss < best_val_loss:\n",
        "                    best_val_loss = avg_val_loss\n",
        "                    best_model_wts = copy.deepcopy(model.state_dict())\n",
        "\n",
        "                print(f\"Avg training loss after {num_steps} steps of SGD = {avg_train_loss:.6f}\")\n",
        "                print(f\"Avg validation loss after {num_steps} steps of SGD = {avg_val_loss:.6f}\")\n",
        "                print()\n",
        "\n",
        "            Xi = copy.deepcopy(X_train[i])\n",
        "            Xi = Xi.unsqueeze_(0)\n",
        "            Xi = Xi.to(device)\n",
        "\n",
        "            yi = copy.deepcopy(y_train[i])\n",
        "            yi = yi.unsqueeze_(0)\n",
        "            yi = yi.to(device)\n",
        "\n",
        "            # zero the parameter gradients\n",
        "            optimizer.zero_grad()\n",
        "\n",
        "            # forward pass + loss computation\n",
        "            output = model(Xi)\n",
        "            loss = criterion(output, yi)\n",
        "            total_train_loss += loss\n",
        "\n",
        "            # backward pass + parameter update\n",
        "            loss.backward()\n",
        "            optimizer.step()\n",
        "            num_steps += 1\n",
        "\n",
        "    time_elapsed = time.time() - since\n",
        "    print(f'Training complete in {time_elapsed // 60:.0f}m {time_elapsed % 60:.0f}s')\n",
        "    print(f'Best validation loss: {best_val_loss:.4f}')\n",
        "\n",
        "    # load best model weights\n",
        "    model.load_state_dict(best_model_wts)\n",
        "\n",
        "    return train_losses, val_losses, model"
      ],
      "metadata": {
        "id": "BzjZ6474H54Y"
      },
      "execution_count": 65,
      "outputs": []
    },
    {
      "cell_type": "code",
      "source": [
        "# Training the Elman network\n",
        "train_losses_elman, val_losses_elman, elman_model = train(elman_model, optimizer_elman, criterion)"
      ],
      "metadata": {
        "colab": {
          "base_uri": "https://localhost:8080/"
        },
        "id": "tpJhy7BoH5-T",
        "outputId": "ba10ac88-bd75-4737-9dbf-64d8a88a399a"
      },
      "execution_count": 66,
      "outputs": [
        {
          "output_type": "stream",
          "name": "stdout",
          "text": [
            "Avg training loss after 500 steps of SGD = 0.236817\n",
            "Avg validation loss after 500 steps of SGD = 0.153588\n",
            "\n",
            "Avg training loss after 1000 steps of SGD = 0.202168\n",
            "Avg validation loss after 1000 steps of SGD = 0.143455\n",
            "\n",
            "Avg training loss after 1500 steps of SGD = 0.176599\n",
            "Avg validation loss after 1500 steps of SGD = 0.110868\n",
            "\n",
            "Avg training loss after 2000 steps of SGD = 0.160603\n",
            "Avg validation loss after 2000 steps of SGD = 0.101735\n",
            "\n",
            "Avg training loss after 2500 steps of SGD = 0.151852\n",
            "Avg validation loss after 2500 steps of SGD = 0.097955\n",
            "\n",
            "Avg training loss after 3000 steps of SGD = 0.146670\n",
            "Avg validation loss after 3000 steps of SGD = 0.116370\n",
            "\n",
            "Avg training loss after 3500 steps of SGD = 0.139731\n",
            "Avg validation loss after 3500 steps of SGD = 0.091646\n",
            "\n",
            "Avg training loss after 4000 steps of SGD = 0.132680\n",
            "Avg validation loss after 4000 steps of SGD = 0.067708\n",
            "\n",
            "Avg training loss after 4500 steps of SGD = 0.124989\n",
            "Avg validation loss after 4500 steps of SGD = 0.080662\n",
            "\n",
            "Avg training loss after 5000 steps of SGD = 0.116611\n",
            "Avg validation loss after 5000 steps of SGD = 0.050049\n",
            "\n",
            "Avg training loss after 5500 steps of SGD = 0.108505\n",
            "Avg validation loss after 5500 steps of SGD = 0.014840\n",
            "\n",
            "Avg training loss after 6000 steps of SGD = 0.100965\n",
            "Avg validation loss after 6000 steps of SGD = 0.008485\n",
            "\n",
            "Avg training loss after 6500 steps of SGD = 0.094315\n",
            "Avg validation loss after 6500 steps of SGD = 0.017974\n",
            "\n",
            "Avg training loss after 7000 steps of SGD = 0.088348\n",
            "Avg validation loss after 7000 steps of SGD = 0.005227\n",
            "\n",
            "Avg training loss after 7500 steps of SGD = 0.083061\n",
            "Avg validation loss after 7500 steps of SGD = 0.006827\n",
            "\n",
            "Avg training loss after 8000 steps of SGD = 0.078444\n",
            "Avg validation loss after 8000 steps of SGD = 0.018671\n",
            "\n",
            "Avg training loss after 8500 steps of SGD = 0.074293\n",
            "Avg validation loss after 8500 steps of SGD = 0.005247\n",
            "\n",
            "Avg training loss after 9000 steps of SGD = 0.070651\n",
            "Avg validation loss after 9000 steps of SGD = 0.007675\n",
            "\n",
            "Avg training loss after 9500 steps of SGD = 0.067321\n",
            "Avg validation loss after 9500 steps of SGD = 0.006790\n",
            "\n",
            "Avg training loss after 10000 steps of SGD = 0.064249\n",
            "Avg validation loss after 10000 steps of SGD = 0.004177\n",
            "\n",
            "Avg training loss after 10500 steps of SGD = 0.061595\n",
            "Avg validation loss after 10500 steps of SGD = 0.003760\n",
            "\n",
            "Avg training loss after 11000 steps of SGD = 0.059028\n",
            "Avg validation loss after 11000 steps of SGD = 0.003910\n",
            "\n",
            "Avg training loss after 11500 steps of SGD = 0.056758\n",
            "Avg validation loss after 11500 steps of SGD = 0.010000\n",
            "\n",
            "Avg training loss after 12000 steps of SGD = 0.054811\n",
            "Avg validation loss after 12000 steps of SGD = 0.005024\n",
            "\n",
            "Avg training loss after 12500 steps of SGD = 0.052888\n",
            "Avg validation loss after 12500 steps of SGD = 0.003830\n",
            "\n",
            "Avg training loss after 13000 steps of SGD = 0.051089\n",
            "Avg validation loss after 13000 steps of SGD = 0.007332\n",
            "\n",
            "Avg training loss after 13500 steps of SGD = 0.049410\n",
            "Avg validation loss after 13500 steps of SGD = 0.002946\n",
            "\n",
            "Avg training loss after 14000 steps of SGD = 0.047882\n",
            "Avg validation loss after 14000 steps of SGD = 0.006977\n",
            "\n",
            "Avg training loss after 14500 steps of SGD = 0.046477\n",
            "Avg validation loss after 14500 steps of SGD = 0.003176\n",
            "\n",
            "Avg training loss after 15000 steps of SGD = 0.045104\n",
            "Avg validation loss after 15000 steps of SGD = 0.017855\n",
            "\n",
            "Avg training loss after 15500 steps of SGD = 0.043841\n",
            "Avg validation loss after 15500 steps of SGD = 0.007736\n",
            "\n",
            "Avg training loss after 16000 steps of SGD = 0.042663\n",
            "Avg validation loss after 16000 steps of SGD = 0.005254\n",
            "\n",
            "Avg training loss after 16500 steps of SGD = 0.041524\n",
            "Avg validation loss after 16500 steps of SGD = 0.008267\n",
            "\n",
            "Avg training loss after 17000 steps of SGD = 0.040471\n",
            "Avg validation loss after 17000 steps of SGD = 0.007553\n",
            "\n",
            "Avg training loss after 17500 steps of SGD = 0.039462\n",
            "Avg validation loss after 17500 steps of SGD = 0.020189\n",
            "\n",
            "Avg training loss after 18000 steps of SGD = 0.038575\n",
            "Avg validation loss after 18000 steps of SGD = 0.021137\n",
            "\n",
            "Avg training loss after 18500 steps of SGD = 0.037718\n",
            "Avg validation loss after 18500 steps of SGD = 0.006510\n",
            "\n",
            "Avg training loss after 19000 steps of SGD = 0.036873\n",
            "Avg validation loss after 19000 steps of SGD = 0.011220\n",
            "\n",
            "Training complete in 1m 48s\n",
            "Best validation loss: 0.0029\n"
          ]
        }
      ]
    },
    {
      "cell_type": "code",
      "source": [
        "# Training the LSTM\n",
        "train_losses_lstm, val_losses_lstm, lstm_model = train(lstm_model, optimizer_lstm, criterion)"
      ],
      "metadata": {
        "colab": {
          "base_uri": "https://localhost:8080/"
        },
        "id": "R3SBwKDQH9Tn",
        "outputId": "04013422-7134-40f2-b7e7-bac55a0c823f"
      },
      "execution_count": 67,
      "outputs": [
        {
          "output_type": "stream",
          "name": "stdout",
          "text": [
            "Avg training loss after 500 steps of SGD = 0.278123\n",
            "Avg validation loss after 500 steps of SGD = 0.144666\n",
            "\n",
            "Avg training loss after 1000 steps of SGD = 0.215305\n",
            "Avg validation loss after 1000 steps of SGD = 0.122729\n",
            "\n",
            "Avg training loss after 1500 steps of SGD = 0.176902\n",
            "Avg validation loss after 1500 steps of SGD = 0.078397\n",
            "\n",
            "Avg training loss after 2000 steps of SGD = 0.147703\n",
            "Avg validation loss after 2000 steps of SGD = 0.027565\n",
            "\n",
            "Avg training loss after 2500 steps of SGD = 0.122255\n",
            "Avg validation loss after 2500 steps of SGD = 0.010078\n",
            "\n",
            "Avg training loss after 3000 steps of SGD = 0.103089\n",
            "Avg validation loss after 3000 steps of SGD = 0.005167\n",
            "\n",
            "Avg training loss after 3500 steps of SGD = 0.089177\n",
            "Avg validation loss after 3500 steps of SGD = 0.004106\n",
            "\n",
            "Avg training loss after 4000 steps of SGD = 0.078685\n",
            "Avg validation loss after 4000 steps of SGD = 0.004678\n",
            "\n",
            "Avg training loss after 4500 steps of SGD = 0.070448\n",
            "Avg validation loss after 4500 steps of SGD = 0.003250\n",
            "\n",
            "Avg training loss after 5000 steps of SGD = 0.063828\n",
            "Avg validation loss after 5000 steps of SGD = 0.002952\n",
            "\n",
            "Avg training loss after 5500 steps of SGD = 0.058408\n",
            "Avg validation loss after 5500 steps of SGD = 0.003311\n",
            "\n",
            "Avg training loss after 6000 steps of SGD = 0.053852\n",
            "Avg validation loss after 6000 steps of SGD = 0.003475\n",
            "\n",
            "Avg training loss after 6500 steps of SGD = 0.050046\n",
            "Avg validation loss after 6500 steps of SGD = 0.004170\n",
            "\n",
            "Avg training loss after 7000 steps of SGD = 0.046705\n",
            "Avg validation loss after 7000 steps of SGD = 0.001885\n",
            "\n",
            "Avg training loss after 7500 steps of SGD = 0.043781\n",
            "Avg validation loss after 7500 steps of SGD = 0.002242\n",
            "\n",
            "Avg training loss after 8000 steps of SGD = 0.041215\n",
            "Avg validation loss after 8000 steps of SGD = 0.003260\n",
            "\n",
            "Avg training loss after 8500 steps of SGD = 0.038969\n",
            "Avg validation loss after 8500 steps of SGD = 0.001596\n",
            "\n",
            "Avg training loss after 9000 steps of SGD = 0.036958\n",
            "Avg validation loss after 9000 steps of SGD = 0.001991\n",
            "\n",
            "Avg training loss after 9500 steps of SGD = 0.035126\n",
            "Avg validation loss after 9500 steps of SGD = 0.001834\n",
            "\n",
            "Avg training loss after 10000 steps of SGD = 0.033459\n",
            "Avg validation loss after 10000 steps of SGD = 0.001448\n",
            "\n",
            "Avg training loss after 10500 steps of SGD = 0.031968\n",
            "Avg validation loss after 10500 steps of SGD = 0.000925\n",
            "\n",
            "Avg training loss after 11000 steps of SGD = 0.030578\n",
            "Avg validation loss after 11000 steps of SGD = 0.001144\n",
            "\n",
            "Avg training loss after 11500 steps of SGD = 0.029311\n",
            "Avg validation loss after 11500 steps of SGD = 0.001683\n",
            "\n",
            "Avg training loss after 12000 steps of SGD = 0.028167\n",
            "Avg validation loss after 12000 steps of SGD = 0.000653\n",
            "\n",
            "Avg training loss after 12500 steps of SGD = 0.027110\n",
            "Avg validation loss after 12500 steps of SGD = 0.005041\n",
            "\n",
            "Avg training loss after 13000 steps of SGD = 0.026123\n",
            "Avg validation loss after 13000 steps of SGD = 0.000725\n",
            "\n",
            "Avg training loss after 13500 steps of SGD = 0.025202\n",
            "Avg validation loss after 13500 steps of SGD = 0.000591\n",
            "\n",
            "Avg training loss after 14000 steps of SGD = 0.024349\n",
            "Avg validation loss after 14000 steps of SGD = 0.002207\n",
            "\n",
            "Avg training loss after 14500 steps of SGD = 0.023562\n",
            "Avg validation loss after 14500 steps of SGD = 0.000575\n",
            "\n",
            "Avg training loss after 15000 steps of SGD = 0.022821\n",
            "Avg validation loss after 15000 steps of SGD = 0.003129\n",
            "\n",
            "Avg training loss after 15500 steps of SGD = 0.022130\n",
            "Avg validation loss after 15500 steps of SGD = 0.001489\n",
            "\n",
            "Avg training loss after 16000 steps of SGD = 0.021468\n",
            "Avg validation loss after 16000 steps of SGD = 0.005673\n",
            "\n",
            "Avg training loss after 16500 steps of SGD = 0.020852\n",
            "Avg validation loss after 16500 steps of SGD = 0.002380\n",
            "\n",
            "Avg training loss after 17000 steps of SGD = 0.020269\n",
            "Avg validation loss after 17000 steps of SGD = 0.001154\n",
            "\n",
            "Avg training loss after 17500 steps of SGD = 0.019715\n",
            "Avg validation loss after 17500 steps of SGD = 0.002071\n",
            "\n",
            "Avg training loss after 18000 steps of SGD = 0.019193\n",
            "Avg validation loss after 18000 steps of SGD = 0.001028\n",
            "\n",
            "Avg training loss after 18500 steps of SGD = 0.018702\n",
            "Avg validation loss after 18500 steps of SGD = 0.000339\n",
            "\n",
            "Avg training loss after 19000 steps of SGD = 0.018239\n",
            "Avg validation loss after 19000 steps of SGD = 0.000625\n",
            "\n",
            "Training complete in 3m 35s\n",
            "Best validation loss: 0.0003\n"
          ]
        }
      ]
    },
    {
      "cell_type": "code",
      "source": [
        "# Training the GRU\n",
        "train_losses_gru, val_losses_gru, gru_model = train(gru_model, optimizer_gru, criterion)"
      ],
      "metadata": {
        "colab": {
          "base_uri": "https://localhost:8080/"
        },
        "id": "q6b4fEO2H9Yu",
        "outputId": "1e59f23c-e129-44a9-a724-0f19c8475cf9"
      },
      "execution_count": 68,
      "outputs": [
        {
          "output_type": "stream",
          "name": "stdout",
          "text": [
            "Avg training loss after 500 steps of SGD = 0.193210\n",
            "Avg validation loss after 500 steps of SGD = 0.137859\n",
            "\n",
            "Avg training loss after 1000 steps of SGD = 0.145819\n",
            "Avg validation loss after 1000 steps of SGD = 0.028011\n",
            "\n",
            "Avg training loss after 1500 steps of SGD = 0.102616\n",
            "Avg validation loss after 1500 steps of SGD = 0.008732\n",
            "\n",
            "Avg training loss after 2000 steps of SGD = 0.079019\n",
            "Avg validation loss after 2000 steps of SGD = 0.006287\n",
            "\n",
            "Avg training loss after 2500 steps of SGD = 0.064232\n",
            "Avg validation loss after 2500 steps of SGD = 0.003355\n",
            "\n",
            "Avg training loss after 3000 steps of SGD = 0.054016\n",
            "Avg validation loss after 3000 steps of SGD = 0.002613\n",
            "\n",
            "Avg training loss after 3500 steps of SGD = 0.046637\n",
            "Avg validation loss after 3500 steps of SGD = 0.001581\n",
            "\n",
            "Avg training loss after 4000 steps of SGD = 0.041055\n",
            "Avg validation loss after 4000 steps of SGD = 0.001970\n",
            "\n",
            "Avg training loss after 4500 steps of SGD = 0.036659\n",
            "Avg validation loss after 4500 steps of SGD = 0.001199\n",
            "\n",
            "Avg training loss after 5000 steps of SGD = 0.033137\n",
            "Avg validation loss after 5000 steps of SGD = 0.000843\n",
            "\n",
            "Avg training loss after 5500 steps of SGD = 0.030237\n",
            "Avg validation loss after 5500 steps of SGD = 0.000864\n",
            "\n",
            "Avg training loss after 6000 steps of SGD = 0.027812\n",
            "Avg validation loss after 6000 steps of SGD = 0.000700\n",
            "\n",
            "Avg training loss after 6500 steps of SGD = 0.025765\n",
            "Avg validation loss after 6500 steps of SGD = 0.001378\n",
            "\n",
            "Avg training loss after 7000 steps of SGD = 0.024017\n",
            "Avg validation loss after 7000 steps of SGD = 0.000859\n",
            "\n",
            "Avg training loss after 7500 steps of SGD = 0.022474\n",
            "Avg validation loss after 7500 steps of SGD = 0.000658\n",
            "\n",
            "Avg training loss after 8000 steps of SGD = 0.021125\n",
            "Avg validation loss after 8000 steps of SGD = 0.004349\n",
            "\n",
            "Avg training loss after 8500 steps of SGD = 0.019952\n",
            "Avg validation loss after 8500 steps of SGD = 0.000632\n",
            "\n",
            "Avg training loss after 9000 steps of SGD = 0.018891\n",
            "Avg validation loss after 9000 steps of SGD = 0.001056\n",
            "\n",
            "Avg training loss after 9500 steps of SGD = 0.017936\n",
            "Avg validation loss after 9500 steps of SGD = 0.000491\n",
            "\n",
            "Avg training loss after 10000 steps of SGD = 0.017073\n",
            "Avg validation loss after 10000 steps of SGD = 0.003777\n",
            "\n",
            "Avg training loss after 10500 steps of SGD = 0.016320\n",
            "Avg validation loss after 10500 steps of SGD = 0.000579\n",
            "\n",
            "Avg training loss after 11000 steps of SGD = 0.015598\n",
            "Avg validation loss after 11000 steps of SGD = 0.000302\n",
            "\n",
            "Avg training loss after 11500 steps of SGD = 0.014942\n",
            "Avg validation loss after 11500 steps of SGD = 0.000459\n",
            "\n",
            "Avg training loss after 12000 steps of SGD = 0.014342\n",
            "Avg validation loss after 12000 steps of SGD = 0.000328\n",
            "\n",
            "Avg training loss after 12500 steps of SGD = 0.013796\n",
            "Avg validation loss after 12500 steps of SGD = 0.000351\n",
            "\n",
            "Avg training loss after 13000 steps of SGD = 0.013285\n",
            "Avg validation loss after 13000 steps of SGD = 0.000415\n",
            "\n",
            "Avg training loss after 13500 steps of SGD = 0.012827\n",
            "Avg validation loss after 13500 steps of SGD = 0.000236\n",
            "\n",
            "Avg training loss after 14000 steps of SGD = 0.012384\n",
            "Avg validation loss after 14000 steps of SGD = 0.000524\n",
            "\n",
            "Avg training loss after 14500 steps of SGD = 0.011977\n",
            "Avg validation loss after 14500 steps of SGD = 0.000267\n",
            "\n",
            "Avg training loss after 15000 steps of SGD = 0.011595\n",
            "Avg validation loss after 15000 steps of SGD = 0.000790\n",
            "\n",
            "Avg training loss after 15500 steps of SGD = 0.011236\n",
            "Avg validation loss after 15500 steps of SGD = 0.000287\n",
            "\n",
            "Avg training loss after 16000 steps of SGD = 0.010898\n",
            "Avg validation loss after 16000 steps of SGD = 0.000226\n",
            "\n",
            "Avg training loss after 16500 steps of SGD = 0.010582\n",
            "Avg validation loss after 16500 steps of SGD = 0.000597\n",
            "\n",
            "Avg training loss after 17000 steps of SGD = 0.010294\n",
            "Avg validation loss after 17000 steps of SGD = 0.000250\n",
            "\n",
            "Avg training loss after 17500 steps of SGD = 0.010007\n",
            "Avg validation loss after 17500 steps of SGD = 0.001141\n",
            "\n",
            "Avg training loss after 18000 steps of SGD = 0.009740\n",
            "Avg validation loss after 18000 steps of SGD = 0.000227\n",
            "\n",
            "Avg training loss after 18500 steps of SGD = 0.009489\n",
            "Avg validation loss after 18500 steps of SGD = 0.000499\n",
            "\n",
            "Avg training loss after 19000 steps of SGD = 0.009247\n",
            "Avg validation loss after 19000 steps of SGD = 0.000193\n",
            "\n",
            "Training complete in 3m 53s\n",
            "Best validation loss: 0.0002\n"
          ]
        }
      ]
    },
    {
      "cell_type": "code",
      "source": [
        "def plot_learning_curves(train_losses, val_losses, model_name):\n",
        "    iters = range(500, 19500, 500)\n",
        "    plt.plot(iters, train_losses, 'g', label='Training loss')\n",
        "    plt.plot(iters, val_losses, 'b', label='Validation loss')\n",
        "    plt.title(f'Training and Validation loss for {model_name}')\n",
        "    plt.xlabel('Number of SGD iterations')\n",
        "    plt.ylabel('Loss')\n",
        "    plt.legend()\n",
        "    plt.show()"
      ],
      "metadata": {
        "id": "155BUG0Zdz5Z"
      },
      "execution_count": 69,
      "outputs": []
    },
    {
      "cell_type": "code",
      "source": [
        "plot_learning_curves(train_losses_elman, val_losses_elman, 'Elman')"
      ],
      "metadata": {
        "colab": {
          "base_uri": "https://localhost:8080/",
          "height": 295
        },
        "id": "Zh8ADzODICmS",
        "outputId": "3f4a768b-81d8-4522-86a4-1d43ac57f49a"
      },
      "execution_count": 70,
      "outputs": [
        {
          "output_type": "display_data",
          "data": {
            "text/plain": [
              "<Figure size 432x288 with 1 Axes>"
            ],
            "image/png": "[encoded data removed]"
          },
          "metadata": {
            "needs_background": "light"
          }
        }
      ]
    },
    {
      "cell_type": "code",
      "source": [
        "plot_learning_curves(train_losses_lstm, val_losses_lstm, 'LSTM')"
      ],
      "metadata": {
        "colab": {
          "base_uri": "https://localhost:8080/",
          "height": 295
        },
        "id": "LnjBr6tKIHGq",
        "outputId": "9f11572c-573a-4389-f240-021f884fa1fc"
      },
      "execution_count": 71,
      "outputs": [
        {
          "output_type": "display_data",
          "data": {
            "text/plain": [
              "<Figure size 432x288 with 1 Axes>"
            ],
            "image/png": "[encoded data removed]"
          },
          "metadata": {
            "needs_background": "light"
          }
        }
      ]
    },
    {
      "cell_type": "code",
      "source": [
        "plot_learning_curves(train_losses_gru, val_losses_gru, 'GRU')"
      ],
      "metadata": {
        "colab": {
          "base_uri": "https://localhost:8080/",
          "height": 295
        },
        "id": "t5ZwLQZ9IIXT",
        "outputId": "3d13871c-f3f7-4c4d-b415-7147d632c91b"
      },
      "execution_count": 72,
      "outputs": [
        {
          "output_type": "display_data",
          "data": {
            "text/plain": [
              "<Figure size 432x288 with 1 Axes>"
            ],
            "image/png": "[encoded data removed]"
          },
          "metadata": {
            "needs_background": "light"
          }
        }
      ]
    },
    {
      "cell_type": "code",
      "source": [
        "# using two popular metrics - RMSE (Mean Squared Error), MAE (Mean Absolute Error) to compare the test performance of the above regression models"
      ],
      "metadata": {
        "id": "lL7-Hn9uZguX"
      },
      "execution_count": 73,
      "outputs": []
    },
    {
      "cell_type": "code",
      "source": [
        "@torch.no_grad()\n",
        "def compute_test_metrics(model):\n",
        "    \"\"\"\n",
        "        Computes performance metrics for the given regression model.\n",
        "\n",
        "        Inputs:\n",
        "        - model: the regression model provided\n",
        "\n",
        "        Returns:\n",
        "        - rmse_error: Root Mean Squared Error measured between predictions and targets\n",
        "        - mae_error: Mean Absolute Error measured between predictions and targets\n",
        "    \"\"\"\n",
        "\n",
        "    model.eval()\n",
        "    \n",
        "    num_samples = len(X_test)\n",
        "    preds = torch.zeros(num_samples, 1)\n",
        "\n",
        "    for i in range(num_samples):\n",
        "        Xi = copy.deepcopy(X_test[i])\n",
        "        Xi = Xi.unsqueeze_(0)\n",
        "        Xi = Xi.to(device)\n",
        "\n",
        "        output = model(Xi)\n",
        "        preds[i] = output[0]\n",
        "\n",
        "    rmse_error = mean_squared_error(y_test, preds, squared=False)\n",
        "    mae_error = mean_absolute_error(y_test, preds)\n",
        "\n",
        "    return rmse_error, mae_error"
      ],
      "metadata": {
        "id": "u1u72KV5IJ33"
      },
      "execution_count": 74,
      "outputs": []
    },
    {
      "cell_type": "code",
      "source": [
        "# compute rmse and mae results on the test set using the 4 regression models\n",
        "\n",
        "baseline_rmse, baseline_mae = compute_test_metrics(baseline_model)\n",
        "elman_rmse, elman_mae = compute_test_metrics(elman_model)\n",
        "lstm_rmse, lstm_mae = compute_test_metrics(lstm_model)\n",
        "gru_rmse, gru_mae = compute_test_metrics(gru_model)"
      ],
      "metadata": {
        "id": "MKaAfzUTILMl"
      },
      "execution_count": 75,
      "outputs": []
    },
    {
      "cell_type": "code",
      "source": [
        "print(baseline_rmse, elman_rmse, lstm_rmse, gru_rmse)\n",
        "print(baseline_mae, elman_mae, lstm_mae, gru_mae)\n",
        "\n",
        "# Lesser the RMSE, MAE, better the model\n",
        "\n",
        "# Performance RMSE: GRU ~ LSTM > ELMAN >> BASELINE\n",
        "# Performance MAE: GRU ~ LSTM > ELMAN >> BASELINE\n",
        "\n",
        "# As per the metrics, GRU is very slightly better than LSTM on this task\n",
        "# Both GRU and LSTM are fairly better than the Elman\n",
        "# All the GRU, LSTM, Elman are much much better than the baseline"
      ],
      "metadata": {
        "id": "uXBAeimkIMOO",
        "colab": {
          "base_uri": "https://localhost:8080/"
        },
        "outputId": "48353d7a-b66d-48d6-c8a3-feda80a6add3"
      },
      "execution_count": 76,
      "outputs": [
        {
          "output_type": "stream",
          "name": "stdout",
          "text": [
            "0.41495657 0.057831366 0.019503199 0.014327526\n",
            "0.33996385 0.04411822 0.0149566345 0.0116455555\n"
          ]
        }
      ]
    },
    {
      "cell_type": "code",
      "source": [
        "######### end of Q2 #############"
      ],
      "metadata": {
        "id": "AhbJC30Ek221"
      },
      "execution_count": 77,
      "outputs": []
    }
  ]
}